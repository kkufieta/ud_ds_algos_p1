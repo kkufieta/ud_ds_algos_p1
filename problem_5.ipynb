{
 "cells": [
  {
   "cell_type": "markdown",
   "metadata": {},
   "source": [
    "# Problem 5: Blockchain\n",
    "\n",
    "A Blockchain is a sequential chain of records, similar to a linked list. Each block contains some information and how it is connected related to the other blocks in the chain. Each block contains a cryptographic hash of the previous block, a timestamp, and transaction data. For our blockchain we will be using:\n",
    "* A SHA-256 hash\n",
    "* The Greenwich Mean Time when the block was created\n",
    "* Text strings as the data"
   ]
  },
  {
   "cell_type": "markdown",
   "metadata": {},
   "source": [
    "## Block"
   ]
  },
  {
   "cell_type": "code",
   "execution_count": 1,
   "metadata": {},
   "outputs": [],
   "source": [
    "import hashlib\n",
    "from time import gmtime, strftime\n",
    "\n",
    "class Block:\n",
    "    def __init__(self, timestamp, data, prev_hash, prev_block):\n",
    "        \"\"\"\n",
    "        Creates a block with a timestamp, data, and information\n",
    "        about the previous block and its hash code.\n",
    "        \"\"\"\n",
    "        self.timestamp = timestamp\n",
    "        self.data = data\n",
    "        self.prev_hash = prev_hash\n",
    "        self.prev_block = prev_block\n",
    "        self.hash = self._calc_hash()\n",
    "        \n",
    "    def _calc_hash(self):\n",
    "        \"\"\"\n",
    "        Helper function to calculate the hash code.\n",
    "        \"\"\"\n",
    "        sha = hashlib.sha256()\n",
    "        hash_str = (str(self.timestamp) +\n",
    "                    str(self.data) + \n",
    "                    str(self.prev_hash)).encode('utf-8')\n",
    "        sha.update(hash_str)\n",
    "        return sha.hexdigest()\n",
    "        \n",
    "    def get_hash(self):\n",
    "        \"\"\"\n",
    "        Returns the hash code.\n",
    "        \"\"\"\n",
    "        return self.hash\n",
    "    \n",
    "    def get_data(self):\n",
    "        \"\"\"\n",
    "        Returns the data.\n",
    "        \"\"\"\n",
    "        return self.data\n",
    "    \n",
    "    def get_timestamp(self):\n",
    "        \"\"\"\n",
    "        Returns the timestamp.\n",
    "        \"\"\"\n",
    "        return self.timestamp\n",
    "    \n",
    "    def __str__(self):\n",
    "        \"\"\"\n",
    "        String representation of the block.\n",
    "        \"\"\"\n",
    "        s = \"Block:\\n\"\n",
    "        s += \"Timestamp: \" + strftime(\"%Y-%m-%d, %H:%M:%S\", self.timestamp) + \"\\n\"\n",
    "        s += \"Data: \" + str(self.data) + \"\\n\"\n",
    "        s += \"Hash: \" + str(self.hash) + \"\\n\"\n",
    "        return s"
   ]
  },
  {
   "cell_type": "markdown",
   "metadata": {},
   "source": [
    "## Simple blockchain implementation"
   ]
  },
  {
   "cell_type": "code",
   "execution_count": 2,
   "metadata": {},
   "outputs": [],
   "source": [
    "class BlockChain:\n",
    "    def __init__(self):\n",
    "        \"\"\"\n",
    "        Creates a blockchain with the genesis block.\n",
    "        \"\"\"\n",
    "        self.genesis_block = Block(gmtime(), \"genesis_block\", 0, None)\n",
    "        self.head = self.genesis_block\n",
    "        self.size = 1\n",
    "    \n",
    "    def add_block(self, data):\n",
    "        \"\"\"\n",
    "        Adds a new block to the blockchain.\n",
    "        \"\"\"\n",
    "        # prev_hash: hash of the head, update head = block            \n",
    "        block = Block(gmtime(), data, self.head.get_hash(), self.head)\n",
    "        self.head = block\n",
    "        print(\"Added new block with data: \" + str(data) + \n",
    "              \"\\nHash: \" + str(block.get_hash()) + \"\\n\")\n",
    "        self.size += 1\n",
    "        \n",
    "    def __len__(self):\n",
    "        \"\"\"\n",
    "        Returns the size of the blockchain.\n",
    "        \"\"\"\n",
    "        return self.size\n",
    "        \n",
    "    def __str__(self):\n",
    "        \"\"\"\n",
    "        String representation of the blockchain.\n",
    "        \"\"\"\n",
    "        if not self.head:\n",
    "            return \"Empty Blockchain\"\n",
    "        block = self.head\n",
    "        block_stack = []\n",
    "        while block:\n",
    "            block_stack.insert(0, block)\n",
    "            block = block.prev_block\n",
    "        s = \"---- Blockchain: ----\\n\"\n",
    "        for block in block_stack:\n",
    "            s += str(block) + \"\\n\"\n",
    "        return s\n",
    "            "
   ]
  },
  {
   "cell_type": "markdown",
   "metadata": {},
   "source": [
    "## Tests"
   ]
  },
  {
   "cell_type": "code",
   "execution_count": 3,
   "metadata": {},
   "outputs": [
    {
     "name": "stdout",
     "output_type": "stream",
     "text": [
      "Added new block with data: 0\n",
      "Hash: 545b18804fc9a9c72023382de837074c6fb4830dbead70db5cfa0672a2420364\n",
      "\n",
      "Added new block with data: 1\n",
      "Hash: ae12388cacf5641c028df3ac5eccfb6abe1b11677ade5910538efa65e2fb0a86\n",
      "\n",
      "Added new block with data: 2\n",
      "Hash: 2f6658b0bcf15b0bc09c5242115ac356d4f7448a127b7f6b83241c287d4e74df\n",
      "\n",
      "---- Blockchain: ----\n",
      "Block:\n",
      "Timestamp: 2019-10-16, 21:12:16\n",
      "Data: genesis_block\n",
      "Hash: 3152f259a33139ea4f12aa1e53291dc56f5a5011f5629abd56250ac8b7c6bdf1\n",
      "\n",
      "Block:\n",
      "Timestamp: 2019-10-16, 21:12:16\n",
      "Data: 0\n",
      "Hash: 545b18804fc9a9c72023382de837074c6fb4830dbead70db5cfa0672a2420364\n",
      "\n",
      "Block:\n",
      "Timestamp: 2019-10-16, 21:12:16\n",
      "Data: 1\n",
      "Hash: ae12388cacf5641c028df3ac5eccfb6abe1b11677ade5910538efa65e2fb0a86\n",
      "\n",
      "Block:\n",
      "Timestamp: 2019-10-16, 21:12:16\n",
      "Data: 2\n",
      "Hash: 2f6658b0bcf15b0bc09c5242115ac356d4f7448a127b7f6b83241c287d4e74df\n",
      "\n",
      "\n",
      "Number of blocks in blockchain:  4\n"
     ]
    }
   ],
   "source": [
    "blockchain = BlockChain()\n",
    "blockchain.add_block(0)\n",
    "blockchain.add_block(1)\n",
    "blockchain.add_block(2)\n",
    "print(blockchain)\n",
    "print(\"Number of blocks in blockchain: \", len(blockchain))"
   ]
  },
  {
   "cell_type": "code",
   "execution_count": 4,
   "metadata": {},
   "outputs": [
    {
     "name": "stdout",
     "output_type": "stream",
     "text": [
      "1\n"
     ]
    }
   ],
   "source": [
    "blockchain = BlockChain()\n",
    "# Length of blockchain is expected to be of length 1, since\n",
    "# it contains the genesis block.\n",
    "print(len(blockchain))"
   ]
  }
 ],
 "metadata": {
  "kernelspec": {
   "display_name": "Python 3",
   "language": "python",
   "name": "python3"
  },
  "language_info": {
   "codemirror_mode": {
    "name": "ipython",
    "version": 3
   },
   "file_extension": ".py",
   "mimetype": "text/x-python",
   "name": "python",
   "nbconvert_exporter": "python",
   "pygments_lexer": "ipython3",
   "version": "3.5.6"
  }
 },
 "nbformat": 4,
 "nbformat_minor": 2
}
