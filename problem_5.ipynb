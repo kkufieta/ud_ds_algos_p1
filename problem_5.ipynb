{
 "cells": [
  {
   "cell_type": "markdown",
   "metadata": {},
   "source": [
    "# Problem 5: Blockchain\n",
    "\n",
    "A Blockchain is a sequential chain of records, similar to a linked list. Each block contains some information and how it is connected related to the other blocks in the chain. Each block contains a cryptographic hash of the previous block, a timestamp, and transaction data. For our blockchain we will be using:\n",
    "* A SHA-256 hash\n",
    "* The Greenwich Mean Time when the block was created\n",
    "* Text strings as the data"
   ]
  },
  {
   "cell_type": "markdown",
   "metadata": {},
   "source": [
    "## Block"
   ]
  },
  {
   "cell_type": "code",
   "execution_count": 1,
   "metadata": {},
   "outputs": [],
   "source": [
    "import hashlib\n",
    "from time import gmtime, strftime\n",
    "\n",
    "class Block:\n",
    "    def __init__(self, timestamp, data, prev_hash, prev_block):\n",
    "        \"\"\"\n",
    "        Creates a block with a timestamp, data, and information\n",
    "        about the previous block and its hash code.\n",
    "        \"\"\"\n",
    "        assert(type(data) == str), \"Data has to be of type String\"\n",
    "        self.timestamp = timestamp\n",
    "        self.data = data\n",
    "        self.prev_hash = prev_hash\n",
    "        self.prev_block = prev_block\n",
    "        self.hash = self._calc_hash()\n",
    "        \n",
    "    def _calc_hash(self):\n",
    "        \"\"\"\n",
    "        Helper function to calculate the hash code.\n",
    "        \"\"\"\n",
    "        sha = hashlib.sha256()\n",
    "        hash_str = (str(self.timestamp) +\n",
    "                    str(self.data) + \n",
    "                    str(self.prev_hash)).encode('utf-8')\n",
    "        sha.update(hash_str)\n",
    "        return sha.hexdigest()\n",
    "        \n",
    "    def get_hash(self):\n",
    "        \"\"\"\n",
    "        Returns the hash code.\n",
    "        \"\"\"\n",
    "        return self.hash\n",
    "    \n",
    "    def get_data(self):\n",
    "        \"\"\"\n",
    "        Returns the data.\n",
    "        \"\"\"\n",
    "        return self.data\n",
    "    \n",
    "    def get_timestamp(self):\n",
    "        \"\"\"\n",
    "        Returns the timestamp.\n",
    "        \"\"\"\n",
    "        return self.timestamp\n",
    "    \n",
    "    def __str__(self):\n",
    "        \"\"\"\n",
    "        String representation of the block.\n",
    "        \"\"\"\n",
    "        s = \"Block:\\n\"\n",
    "        s += \"Timestamp: \" + strftime(\"%Y-%m-%d, %H:%M:%S\", self.timestamp) + \"\\n\"\n",
    "        s += \"Data: \" + str(self.data) + \"\\n\"\n",
    "        s += \"Hash: \" + str(self.hash) + \"\\n\"\n",
    "        return s"
   ]
  },
  {
   "cell_type": "markdown",
   "metadata": {},
   "source": [
    "## Simple blockchain implementation"
   ]
  },
  {
   "cell_type": "code",
   "execution_count": 2,
   "metadata": {},
   "outputs": [],
   "source": [
    "class BlockChain:\n",
    "    def __init__(self):\n",
    "        \"\"\"\n",
    "        Creates a blockchain with the genesis block.\n",
    "        \"\"\"\n",
    "        self.genesis_block = Block(gmtime(), \"genesis_block\", 0, None)\n",
    "        self.head = self.genesis_block\n",
    "        self.size = 1\n",
    "    \n",
    "    def add_block(self, data):\n",
    "        \"\"\"\n",
    "        Adds a new block to the blockchain.\n",
    "        \"\"\"\n",
    "        assert(type(data) == str), \"Data has to be of type String\"\n",
    "        # prev_hash: hash of the head, update head = block            \n",
    "        block = Block(gmtime(), data, self.head.get_hash(), self.head)\n",
    "        self.head = block\n",
    "        print(\"Added new block with data: \" + str(data) + \n",
    "              \"\\nHash: \" + str(block.get_hash()) + \"\\n\")\n",
    "        self.size += 1\n",
    "        \n",
    "    def __len__(self):\n",
    "        \"\"\"\n",
    "        Returns the size of the blockchain.\n",
    "        \"\"\"\n",
    "        return self.size\n",
    "        \n",
    "    def __str__(self):\n",
    "        \"\"\"\n",
    "        String representation of the blockchain.\n",
    "        \"\"\"\n",
    "        if not self.head:\n",
    "            return \"Empty Blockchain\"\n",
    "        block = self.head\n",
    "        block_stack = []\n",
    "        while block:\n",
    "            block_stack.insert(0, block)\n",
    "            block = block.prev_block\n",
    "        s = \"---- Blockchain: ----\\n\"\n",
    "        for block in block_stack:\n",
    "            s += str(block) + \"\\n\"\n",
    "        return s\n",
    "            "
   ]
  },
  {
   "cell_type": "markdown",
   "metadata": {},
   "source": [
    "## Tests"
   ]
  },
  {
   "cell_type": "code",
   "execution_count": 3,
   "metadata": {},
   "outputs": [
    {
     "name": "stdout",
     "output_type": "stream",
     "text": [
      "Added new block with data: K\n",
      "Hash: bfab7fe1da1d49d227a543892a5f54677f388af5b74c36e3099ab9d15b79360b\n",
      "\n",
      "Added new block with data: A\n",
      "Hash: 2ab9dfec77fdee51dea6aa22e4c92cef279b4a6fe6f6242d8c876c1a41df2454\n",
      "\n",
      "Added new block with data: T\n",
      "Hash: ae20b2f7eec8fb8d9c49bd8bdabba22128aa70f56da446c5cf81005c2e8dd215\n",
      "\n",
      "---- Blockchain: ----\n",
      "Block:\n",
      "Timestamp: 2019-10-20, 22:27:49\n",
      "Data: genesis_block\n",
      "Hash: 5eae90c0553afa352ae7fb053a671b969b4fd22f2a7fbe135c557632e2969c76\n",
      "\n",
      "Block:\n",
      "Timestamp: 2019-10-20, 22:27:49\n",
      "Data: K\n",
      "Hash: bfab7fe1da1d49d227a543892a5f54677f388af5b74c36e3099ab9d15b79360b\n",
      "\n",
      "Block:\n",
      "Timestamp: 2019-10-20, 22:27:49\n",
      "Data: A\n",
      "Hash: 2ab9dfec77fdee51dea6aa22e4c92cef279b4a6fe6f6242d8c876c1a41df2454\n",
      "\n",
      "Block:\n",
      "Timestamp: 2019-10-20, 22:27:49\n",
      "Data: T\n",
      "Hash: ae20b2f7eec8fb8d9c49bd8bdabba22128aa70f56da446c5cf81005c2e8dd215\n",
      "\n",
      "\n",
      "Number of blocks in blockchain:  4\n"
     ]
    }
   ],
   "source": [
    "blockchain = BlockChain()\n",
    "blockchain.add_block(\"K\")\n",
    "blockchain.add_block(\"A\")\n",
    "blockchain.add_block(\"T\")\n",
    "print(blockchain)\n",
    "print(\"Number of blocks in blockchain: \", len(blockchain))"
   ]
  },
  {
   "cell_type": "code",
   "execution_count": 4,
   "metadata": {},
   "outputs": [
    {
     "name": "stdout",
     "output_type": "stream",
     "text": [
      "1\n"
     ]
    }
   ],
   "source": [
    "blockchain = BlockChain()\n",
    "# Length of blockchain is expected to be of length 1, since\n",
    "# it contains the genesis block.\n",
    "print(len(blockchain))"
   ]
  },
  {
   "cell_type": "code",
   "execution_count": 5,
   "metadata": {},
   "outputs": [
    {
     "ename": "AssertionError",
     "evalue": "Data has to be of type String",
     "output_type": "error",
     "traceback": [
      "\u001b[0;31m---------------------------------------------------------------------------\u001b[0m",
      "\u001b[0;31mAssertionError\u001b[0m                            Traceback (most recent call last)",
      "\u001b[0;32m<ipython-input-5-de26e413c3cb>\u001b[0m in \u001b[0;36m<module>\u001b[0;34m\u001b[0m\n\u001b[1;32m      1\u001b[0m \u001b[0;31m# Test adding\u001b[0m\u001b[0;34m\u001b[0m\u001b[0;34m\u001b[0m\u001b[0m\n\u001b[1;32m      2\u001b[0m \u001b[0mblockchain\u001b[0m \u001b[0;34m=\u001b[0m \u001b[0mBlockChain\u001b[0m\u001b[0;34m(\u001b[0m\u001b[0;34m)\u001b[0m\u001b[0;34m\u001b[0m\u001b[0m\n\u001b[0;32m----> 3\u001b[0;31m \u001b[0mblockchain\u001b[0m\u001b[0;34m.\u001b[0m\u001b[0madd_block\u001b[0m\u001b[0;34m(\u001b[0m\u001b[0;36m2\u001b[0m\u001b[0;34m)\u001b[0m\u001b[0;34m\u001b[0m\u001b[0m\n\u001b[0m\u001b[1;32m      4\u001b[0m \u001b[0mprint\u001b[0m\u001b[0;34m(\u001b[0m\u001b[0mblockchain\u001b[0m\u001b[0;34m)\u001b[0m\u001b[0;34m\u001b[0m\u001b[0m\n\u001b[1;32m      5\u001b[0m \u001b[0mprint\u001b[0m\u001b[0;34m(\u001b[0m\u001b[0mlen\u001b[0m\u001b[0;34m(\u001b[0m\u001b[0mblockchain\u001b[0m\u001b[0;34m)\u001b[0m\u001b[0;34m)\u001b[0m\u001b[0;34m\u001b[0m\u001b[0m\n",
      "\u001b[0;32m<ipython-input-2-c163597ad45d>\u001b[0m in \u001b[0;36madd_block\u001b[0;34m(self, data)\u001b[0m\n\u001b[1;32m     12\u001b[0m         \u001b[0mAdds\u001b[0m \u001b[0ma\u001b[0m \u001b[0mnew\u001b[0m \u001b[0mblock\u001b[0m \u001b[0mto\u001b[0m \u001b[0mthe\u001b[0m \u001b[0mblockchain\u001b[0m\u001b[0;34m.\u001b[0m\u001b[0;34m\u001b[0m\u001b[0m\n\u001b[1;32m     13\u001b[0m         \"\"\"\n\u001b[0;32m---> 14\u001b[0;31m         \u001b[0;32massert\u001b[0m\u001b[0;34m(\u001b[0m\u001b[0mtype\u001b[0m\u001b[0;34m(\u001b[0m\u001b[0mdata\u001b[0m\u001b[0;34m)\u001b[0m \u001b[0;34m==\u001b[0m \u001b[0mstr\u001b[0m\u001b[0;34m)\u001b[0m\u001b[0;34m,\u001b[0m \u001b[0;34m\"Data has to be of type String\"\u001b[0m\u001b[0;34m\u001b[0m\u001b[0m\n\u001b[0m\u001b[1;32m     15\u001b[0m         \u001b[0;31m# prev_hash: hash of the head, update head = block\u001b[0m\u001b[0;34m\u001b[0m\u001b[0;34m\u001b[0m\u001b[0m\n\u001b[1;32m     16\u001b[0m         \u001b[0mblock\u001b[0m \u001b[0;34m=\u001b[0m \u001b[0mBlock\u001b[0m\u001b[0;34m(\u001b[0m\u001b[0mgmtime\u001b[0m\u001b[0;34m(\u001b[0m\u001b[0;34m)\u001b[0m\u001b[0;34m,\u001b[0m \u001b[0mdata\u001b[0m\u001b[0;34m,\u001b[0m \u001b[0mself\u001b[0m\u001b[0;34m.\u001b[0m\u001b[0mhead\u001b[0m\u001b[0;34m.\u001b[0m\u001b[0mget_hash\u001b[0m\u001b[0;34m(\u001b[0m\u001b[0;34m)\u001b[0m\u001b[0;34m,\u001b[0m \u001b[0mself\u001b[0m\u001b[0;34m.\u001b[0m\u001b[0mhead\u001b[0m\u001b[0;34m)\u001b[0m\u001b[0;34m\u001b[0m\u001b[0m\n",
      "\u001b[0;31mAssertionError\u001b[0m: Data has to be of type String"
     ]
    }
   ],
   "source": [
    "# Test adding data that is not of String type\n",
    "blockchain = BlockChain()\n",
    "blockchain.add_block(2)\n",
    "print(blockchain)\n",
    "print(len(blockchain))"
   ]
  }
 ],
 "metadata": {
  "kernelspec": {
   "display_name": "Python 3",
   "language": "python",
   "name": "python3"
  },
  "language_info": {
   "codemirror_mode": {
    "name": "ipython",
    "version": 3
   },
   "file_extension": ".py",
   "mimetype": "text/x-python",
   "name": "python",
   "nbconvert_exporter": "python",
   "pygments_lexer": "ipython3",
   "version": "3.5.6"
  }
 },
 "nbformat": 4,
 "nbformat_minor": 2
}
