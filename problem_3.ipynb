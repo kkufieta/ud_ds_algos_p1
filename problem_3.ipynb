{
 "cells": [
  {
   "cell_type": "markdown",
   "metadata": {},
   "source": [
    "# Problem 3: Huffman Coding"
   ]
  },
  {
   "cell_type": "markdown",
   "metadata": {},
   "source": [
    "A Huffman code is a type of optimal prefix code that is used for compressing data. The Huffman encoding and decoding schema is also lossless, meaning that when compressing the data to make it smaller, there is no loss of information.\n",
    "\n",
    "The Huffman algorithm works by assigning codes that correspond to the relative frequency of each character for each character. The Huffman code can be of any length and does not require a prefix; therefore, this binary code can be visualized on a binary tree with each encoded character being stored on leafs.\n",
    "\n",
    "There are many types of pseudocode for this algorithm. At the basic core, it is comprised of building a Huffman tree, encoding the data, and, lastly, decoding the data."
   ]
  },
  {
   "cell_type": "markdown",
   "metadata": {},
   "source": [
    "## Algorithm\n",
    "I chose to implement this algorithm: https://www2.cs.duke.edu/csed/poop/huff/info/"
   ]
  },
  {
   "cell_type": "markdown",
   "metadata": {},
   "source": [
    "### Node"
   ]
  },
  {
   "cell_type": "code",
   "execution_count": 10,
   "metadata": {},
   "outputs": [],
   "source": [
    "class Node:\n",
    "    def __init__(self, letter, left_node, right_node):\n",
    "        \"\"\"\n",
    "        Node that points to a left and right child.\n",
    "        \"\"\"\n",
    "        self.letter = letter\n",
    "        self.left = left_node\n",
    "        self.right = right_node"
   ]
  },
  {
   "cell_type": "markdown",
   "metadata": {},
   "source": [
    "### HuffmanTree"
   ]
  },
  {
   "cell_type": "code",
   "execution_count": 11,
   "metadata": {},
   "outputs": [],
   "source": [
    "class HuffmanTree:\n",
    "    def __init__(self):\n",
    "        \"\"\"\n",
    "        Huffman tree with an assigned weight.\n",
    "        \"\"\"\n",
    "        self.root = None\n",
    "        self.weight = None\n",
    "        \n",
    "    def set_root(self, letter, left_node=None, right_node=None):\n",
    "        \"\"\"\n",
    "        Sets the root node with a given letter, and left and right children.\n",
    "        \"\"\"\n",
    "        self.root = Node(letter, left_node, right_node)\n",
    "        \n",
    "    def get_root(self):\n",
    "        \"\"\"\n",
    "        Returns the root node.\n",
    "        \"\"\"\n",
    "        return self.root\n",
    "        \n",
    "    def set_weight(self, weight):\n",
    "        \"\"\"\n",
    "        Sets the weight of the tree.\n",
    "        \"\"\"\n",
    "        self.weight = weight\n",
    "        \n",
    "    def get_weight(self):\n",
    "        \"\"\"\n",
    "        Returns the weight of the tree.\n",
    "        \"\"\"\n",
    "        return self.weight\n",
    "    \n",
    "    def _get_node_letter(self, node):\n",
    "        \"\"\"\n",
    "        This functions makes sure that both None and \"\" are\n",
    "        printed out.\n",
    "        \"\"\"\n",
    "        letter = node.letter\n",
    "        if not letter:\n",
    "            return \"None\"\n",
    "        elif letter == \" \":\n",
    "            return \"' '\"\n",
    "        else:\n",
    "            return \"'\" + letter + \"'\"\n",
    "    \n",
    "    def __str__(self):\n",
    "        \"\"\"\n",
    "        String representation of the tree.\n",
    "        \"\"\"\n",
    "        if not self.root:\n",
    "            return \"\"\n",
    "        s = \"Tree with weight: \" + str(self.weight) + \"\\n\"\n",
    "        level = 1\n",
    "        nodes = [(self.root, level)]\n",
    "        s += self._get_node_letter(self.root) + \"\\n\"\n",
    "        while len(nodes) > 0:\n",
    "            node, new_level = nodes.pop(0)\n",
    "            if new_level != level:\n",
    "                s += \"\\n\"\n",
    "                level = new_level\n",
    "            if node.left:\n",
    "                nodes.append((node.left, level+1))\n",
    "                s += self._get_node_letter(node.left) + \" \"\n",
    "            else:\n",
    "                s += \"None \"\n",
    "            if node.right:\n",
    "                nodes.append((node.right, level+1))\n",
    "                s += self._get_node_letter(node.right) + \" \"\n",
    "            else:\n",
    "                s += \"None \"\n",
    "        s += \"\\n\"\n",
    "        return s   "
   ]
  },
  {
   "cell_type": "markdown",
   "metadata": {},
   "source": [
    "### Helper functions\n",
    "* `merge_trees` takes two Huffman trees and merges them\n",
    "* `get_forest` takes a string and returns single node Huffman trees"
   ]
  },
  {
   "cell_type": "code",
   "execution_count": 12,
   "metadata": {},
   "outputs": [],
   "source": [
    "def merge_trees(tree1, tree2):\n",
    "    \"\"\"\n",
    "    Merges two Huffman trees into a new tree, with the weight of the\n",
    "    new tree equal to the sum of the weights of tree1 and tree2.\n",
    "    \n",
    "    Returns the merged tree.\n",
    "    \"\"\"\n",
    "    weight = tree1.get_weight() + tree2.get_weight()\n",
    "    tree = HuffmanTree()\n",
    "    # Since the root of the tree is not a leaf, \n",
    "    # it does not contain a letter\n",
    "    tree.set_root(None, tree1.get_root(), tree2.get_root())\n",
    "    tree.set_weight(weight)\n",
    "    return tree\n",
    "\n",
    "def get_forest(data):\n",
    "    \"\"\"\n",
    "    Counts the frequency of all letters in data and returns a forest\n",
    "    of single node Huffman trees.\n",
    "    \"\"\"\n",
    "    assert(type(data) == str), \"Input argument 'data' has to be a string\"\n",
    "    frequency = {}\n",
    "    for letter in data:\n",
    "        if letter in frequency:\n",
    "            frequency[letter] += 1\n",
    "        else:\n",
    "            frequency[letter] = 1\n",
    "    forest = []\n",
    "    for letter, weight in frequency.items():\n",
    "        tree = HuffmanTree()\n",
    "        tree.set_root(letter)\n",
    "        tree.set_weight(weight)\n",
    "        forest.append((weight, tree))\n",
    "        \n",
    "    return forest"
   ]
  },
  {
   "cell_type": "markdown",
   "metadata": {},
   "source": [
    "### Helper functions\n",
    "* `map_char_to_binary` creates a dictionary that maps letters to their equivalent binary representation based on the Huffman tree\n",
    "* `encode_data` encodes the data based on the original data and the equivalent Huffman tree."
   ]
  },
  {
   "cell_type": "code",
   "execution_count": 13,
   "metadata": {},
   "outputs": [],
   "source": [
    "def map_char_to_binary(data, tree):\n",
    "    \"\"\"\n",
    "    Creates a hash map that maps the letter to its binary equivalent,\n",
    "    based on the Huffman tree.\n",
    "    \"\"\"\n",
    "    nodes = [(tree.get_root(), \"\")]\n",
    "    code = {}\n",
    "    while len(nodes) > 0:\n",
    "        node, s = nodes.pop(0)\n",
    "        if node.left:\n",
    "            nodes.append((node.left, s+\"0\"))\n",
    "        if node.right:\n",
    "            nodes.append((node.right, s+\"1\"))\n",
    "        if node.letter:\n",
    "            code[node.letter] = s\n",
    "    return code\n",
    "\n",
    "def encode_data(data, tree):\n",
    "    \"\"\"\n",
    "    Returns the encoded data based on the original data and the equivalent\n",
    "    Huffman tree.\n",
    "    \"\"\"\n",
    "    ch_to_b = map_char_to_binary(data, tree)\n",
    "    b = \"\"\n",
    "    for ch in data:\n",
    "        b += ch_to_b[ch]\n",
    "    return b"
   ]
  },
  {
   "cell_type": "markdown",
   "metadata": {},
   "source": [
    "### huffman_encoding and huffman_decoding\n",
    "* `huffman_encoding` creates a Huffman tree from the data and returns both the encoded data and the tree.\n",
    "* `huffman_decoding` takes the encoded data and Huffman tree, and decodes the data back into its original form."
   ]
  },
  {
   "cell_type": "code",
   "execution_count": 46,
   "metadata": {},
   "outputs": [],
   "source": [
    "def huffman_encoding(data):\n",
    "    \"\"\"\n",
    "    Creates a Huffman tree from the data and returns both the\n",
    "    encoded data and the tree.\n",
    "    \"\"\"\n",
    "    assert(type(data) == str), \"Input argument 'data' has to be a string\"\n",
    "    assert(len(data) > 0), \"An empty string is not a valid input\"\n",
    "    forest = get_forest(data)\n",
    "    while len(forest) >= 2:\n",
    "        forest = sorted(forest, key=lambda weight: weight[0])\n",
    "        tree1 = forest.pop(0)[1]\n",
    "        tree2 = forest.pop(0)[1]\n",
    "        merged_tree = merge_trees(tree1, tree2)\n",
    "        forest.append((merged_tree.get_weight(), merged_tree))\n",
    "    tree = forest[0][1]\n",
    "    code = encode_data(data, tree)\n",
    "    return code, tree\n",
    "\n",
    "def huffman_decoding(data, tree):\n",
    "    \"\"\"\n",
    "    Decodes and returns the decoded data.\n",
    "    \"\"\"\n",
    "    root = tree.get_root()\n",
    "    if not root:\n",
    "        return \"\"\n",
    "    node = root\n",
    "    s = \"\"\n",
    "    # Handle the special case then the Huffman tree has only\n",
    "    # one node/letter\n",
    "    if not root.left and not root.right:\n",
    "        raise Exception(\"The tree contains only one letter, this case has not been implemented yet.\")\n",
    "\n",
    "    for b_num in data:\n",
    "        if node.letter:\n",
    "            s += node.letter\n",
    "            node = root\n",
    "        if b_num is \"0\":\n",
    "            node = node.left\n",
    "        else:\n",
    "            node = node.right\n",
    "    s += node.letter\n",
    "    return s"
   ]
  },
  {
   "cell_type": "markdown",
   "metadata": {},
   "source": [
    "# Tests"
   ]
  },
  {
   "cell_type": "code",
   "execution_count": 47,
   "metadata": {},
   "outputs": [
    {
     "name": "stdout",
     "output_type": "stream",
     "text": [
      "Tree with weight: 13\n",
      "None\n",
      "None None \n",
      "'o' 'g' None None \n",
      "None None None None 'r' ' ' None None \n",
      "None None None None 'p' 's' 'h' 'e' \n",
      "None None None None None None None None \n",
      "\n",
      "0100101010010101001100111011111001101\n",
      "go go gophers\n"
     ]
    }
   ],
   "source": [
    "# Test the huffman encoding and decoding\n",
    "# Input: \"go go gophers\"\n",
    "# Output: expect to see most frequent letters ('g', 'o') closer \n",
    "# to the root of the tree than the rest of the letters\n",
    "sentence = \"go go gophers\"\n",
    "code, tree = huffman_encoding(sentence)\n",
    "\n",
    "print(tree)\n",
    "print(code)\n",
    "\n",
    "# Expected output: \"go go gophers\"\n",
    "print(huffman_decoding(code, tree))"
   ]
  },
  {
   "cell_type": "code",
   "execution_count": 49,
   "metadata": {},
   "outputs": [],
   "source": [
    "import sys\n",
    "\n",
    "def test(sentence):\n",
    "    print(\"------- New Test ------- \\nInput: \" + sentence)\n",
    "    print (\"The size of the data is: {}\\n\".format(sys.getsizeof(sentence)))\n",
    "\n",
    "    encoded_data, tree = huffman_encoding(sentence)\n",
    "    print(\"Encoded data: \", encoded_data)\n",
    "    print(tree)\n",
    "\n",
    "    print (\"The size of the encoded data is: {}\\n\".format(sys.getsizeof(int(encoded_data, base=2))))\n",
    "    print (\"The content of the encoded data is: {}\\n\".format(encoded_data))\n",
    "\n",
    "    decoded_data = huffman_decoding(encoded_data, tree)\n",
    "    assert(sentence == decoded_data)\n",
    "\n",
    "    print (\"The size of the decoded data is: {}\\n\".format(sys.getsizeof(decoded_data)))\n",
    "    print (\"Decoded data: {}\\n\".format(decoded_data))"
   ]
  },
  {
   "cell_type": "code",
   "execution_count": 51,
   "metadata": {},
   "outputs": [
    {
     "name": "stdout",
     "output_type": "stream",
     "text": [
      "------- New Test ------- \n",
      "Input: The bird is the word\n",
      "The size of the data is: 69\n",
      "\n",
      "Encoded data:  1011111000011001110011111010110001100011010011110000110011010101111010\n",
      "Tree with weight: 20\n",
      "None\n",
      "None None \n",
      "None None None None \n",
      "'e' 'i' 'd' None None None ' ' None \n",
      "None None None None None None 'w' 'b' 's' 't' 'o' 'T' None None 'h' 'r' \n",
      "None None None None None None None None None None None None None None None None \n",
      "\n",
      "The size of the encoded data is: 36\n",
      "\n",
      "The content of the encoded data is: 1011111000011001110011111010110001100011010011110000110011010101111010\n",
      "\n",
      "The size of the decoded data is: 69\n",
      "\n",
      "Decoded data: The bird is the word\n",
      "\n",
      "------- New Test ------- \n",
      "Input: Hey, this is Kat. She's the best!\n",
      "The size of the data is: 82\n",
      "\n",
      "Encoded data:  1001100110110110101110110001000010111100001011111011101010111011111111001000001110000101110110000011111001000101001110100\n",
      "Tree with weight: 33\n",
      "None\n",
      "None None \n",
      "None None None None \n",
      "'h' 'e' 's' 't' None None None ' ' \n",
      "None None None None None None None None 'i' None None None None None None None \n",
      "None None 'b' 'H' '!' 'a' 'y' '.' ''' 'S' ',' 'K' \n",
      "None None None None None None None None None None None None None None None None None None None None \n",
      "\n",
      "The size of the encoded data is: 44\n",
      "\n",
      "The content of the encoded data is: 1001100110110110101110110001000010111100001011111011101010111011111111001000001110000101110110000011111001000101001110100\n",
      "\n",
      "The size of the decoded data is: 82\n",
      "\n",
      "Decoded data: Hey, this is Kat. She's the best!\n",
      "\n",
      "------- New Test ------- \n",
      "Input: \n",
      "The size of the data is: 49\n",
      "\n"
     ]
    },
    {
     "ename": "AssertionError",
     "evalue": "An empty string is not a valid input",
     "output_type": "error",
     "traceback": [
      "\u001b[0;31m---------------------------------------------------------------------------\u001b[0m",
      "\u001b[0;31mAssertionError\u001b[0m                            Traceback (most recent call last)",
      "\u001b[0;32m<ipython-input-51-52e43c1013cf>\u001b[0m in \u001b[0;36m<module>\u001b[0;34m\u001b[0m\n\u001b[1;32m      7\u001b[0m \u001b[0;31m# since I defined that an emtpy string is not a valid input.\u001b[0m\u001b[0;34m\u001b[0m\u001b[0;34m\u001b[0m\u001b[0m\n\u001b[1;32m      8\u001b[0m \u001b[0;32mfor\u001b[0m \u001b[0msentence\u001b[0m \u001b[0;32min\u001b[0m \u001b[0mtest_sentences\u001b[0m\u001b[0;34m:\u001b[0m\u001b[0;34m\u001b[0m\u001b[0m\n\u001b[0;32m----> 9\u001b[0;31m     \u001b[0mtest\u001b[0m\u001b[0;34m(\u001b[0m\u001b[0msentence\u001b[0m\u001b[0;34m)\u001b[0m\u001b[0;34m\u001b[0m\u001b[0m\n\u001b[0m",
      "\u001b[0;32m<ipython-input-49-48ce318e3854>\u001b[0m in \u001b[0;36mtest\u001b[0;34m(sentence)\u001b[0m\n\u001b[1;32m      5\u001b[0m     \u001b[0mprint\u001b[0m \u001b[0;34m(\u001b[0m\u001b[0;34m\"The size of the data is: {}\\n\"\u001b[0m\u001b[0;34m.\u001b[0m\u001b[0mformat\u001b[0m\u001b[0;34m(\u001b[0m\u001b[0msys\u001b[0m\u001b[0;34m.\u001b[0m\u001b[0mgetsizeof\u001b[0m\u001b[0;34m(\u001b[0m\u001b[0msentence\u001b[0m\u001b[0;34m)\u001b[0m\u001b[0;34m)\u001b[0m\u001b[0;34m)\u001b[0m\u001b[0;34m\u001b[0m\u001b[0m\n\u001b[1;32m      6\u001b[0m \u001b[0;34m\u001b[0m\u001b[0m\n\u001b[0;32m----> 7\u001b[0;31m     \u001b[0mencoded_data\u001b[0m\u001b[0;34m,\u001b[0m \u001b[0mtree\u001b[0m \u001b[0;34m=\u001b[0m \u001b[0mhuffman_encoding\u001b[0m\u001b[0;34m(\u001b[0m\u001b[0msentence\u001b[0m\u001b[0;34m)\u001b[0m\u001b[0;34m\u001b[0m\u001b[0m\n\u001b[0m\u001b[1;32m      8\u001b[0m     \u001b[0mprint\u001b[0m\u001b[0;34m(\u001b[0m\u001b[0;34m\"Encoded data: \"\u001b[0m\u001b[0;34m,\u001b[0m \u001b[0mencoded_data\u001b[0m\u001b[0;34m)\u001b[0m\u001b[0;34m\u001b[0m\u001b[0m\n\u001b[1;32m      9\u001b[0m     \u001b[0mprint\u001b[0m\u001b[0;34m(\u001b[0m\u001b[0mtree\u001b[0m\u001b[0;34m)\u001b[0m\u001b[0;34m\u001b[0m\u001b[0m\n",
      "\u001b[0;32m<ipython-input-46-048553ffeceb>\u001b[0m in \u001b[0;36mhuffman_encoding\u001b[0;34m(data)\u001b[0m\n\u001b[1;32m      5\u001b[0m     \"\"\"\n\u001b[1;32m      6\u001b[0m     \u001b[0;32massert\u001b[0m\u001b[0;34m(\u001b[0m\u001b[0mtype\u001b[0m\u001b[0;34m(\u001b[0m\u001b[0mdata\u001b[0m\u001b[0;34m)\u001b[0m \u001b[0;34m==\u001b[0m \u001b[0mstr\u001b[0m\u001b[0;34m)\u001b[0m\u001b[0;34m,\u001b[0m \u001b[0;34m\"Input argument 'data' has to be a string\"\u001b[0m\u001b[0;34m\u001b[0m\u001b[0m\n\u001b[0;32m----> 7\u001b[0;31m     \u001b[0;32massert\u001b[0m\u001b[0;34m(\u001b[0m\u001b[0mlen\u001b[0m\u001b[0;34m(\u001b[0m\u001b[0mdata\u001b[0m\u001b[0;34m)\u001b[0m \u001b[0;34m>\u001b[0m \u001b[0;36m0\u001b[0m\u001b[0;34m)\u001b[0m\u001b[0;34m,\u001b[0m \u001b[0;34m\"An empty string is not a valid input\"\u001b[0m\u001b[0;34m\u001b[0m\u001b[0m\n\u001b[0m\u001b[1;32m      8\u001b[0m     \u001b[0mforest\u001b[0m \u001b[0;34m=\u001b[0m \u001b[0mget_forest\u001b[0m\u001b[0;34m(\u001b[0m\u001b[0mdata\u001b[0m\u001b[0;34m)\u001b[0m\u001b[0;34m\u001b[0m\u001b[0m\n\u001b[1;32m      9\u001b[0m     \u001b[0;32mwhile\u001b[0m \u001b[0mlen\u001b[0m\u001b[0;34m(\u001b[0m\u001b[0mforest\u001b[0m\u001b[0;34m)\u001b[0m \u001b[0;34m>=\u001b[0m \u001b[0;36m2\u001b[0m\u001b[0;34m:\u001b[0m\u001b[0;34m\u001b[0m\u001b[0m\n",
      "\u001b[0;31mAssertionError\u001b[0m: An empty string is not a valid input"
     ]
    }
   ],
   "source": [
    "# Input:  \n",
    "test_sentences = [\"The bird is the word\", \n",
    "                  \"Hey, this is Kat. She's the best!\", \n",
    "                  \"\"]\n",
    "\n",
    "# Output: I expect the first two cases to work, and the last one to throw an exception,\n",
    "# since I defined that an emtpy string is not a valid input.\n",
    "for sentence in test_sentences:\n",
    "    test(sentence)"
   ]
  },
  {
   "cell_type": "markdown",
   "metadata": {},
   "source": [
    "# Out of scope test cases\n",
    "If the input is just a repeated character (e.g. \"k\"), the Huffman tree looks like this:\n",
    "```\n",
    "k\n",
    "None None\n",
    "```\n",
    "\n",
    "Meaning it does not store any information on how \"k\" is encoded, since the letter is stored in the root node. I did not handle this case in my implementation."
   ]
  },
  {
   "cell_type": "code",
   "execution_count": 52,
   "metadata": {},
   "outputs": [
    {
     "name": "stdout",
     "output_type": "stream",
     "text": [
      "------- New Test ------- \n",
      "Input: kkkk\n",
      "The size of the data is: 53\n",
      "\n",
      "Encoded data:  \n",
      "Tree with weight: 4\n",
      "'k'\n",
      "None None \n",
      "\n"
     ]
    },
    {
     "ename": "ValueError",
     "evalue": "invalid literal for int() with base 2: ''",
     "output_type": "error",
     "traceback": [
      "\u001b[0;31m---------------------------------------------------------------------------\u001b[0m",
      "\u001b[0;31mValueError\u001b[0m                                Traceback (most recent call last)",
      "\u001b[0;32m<ipython-input-52-76f1503a2f72>\u001b[0m in \u001b[0;36m<module>\u001b[0;34m\u001b[0m\n\u001b[0;32m----> 1\u001b[0;31m \u001b[0mtest\u001b[0m\u001b[0;34m(\u001b[0m\u001b[0;34m\"kkkk\"\u001b[0m\u001b[0;34m)\u001b[0m\u001b[0;34m\u001b[0m\u001b[0m\n\u001b[0m",
      "\u001b[0;32m<ipython-input-49-48ce318e3854>\u001b[0m in \u001b[0;36mtest\u001b[0;34m(sentence)\u001b[0m\n\u001b[1;32m      9\u001b[0m     \u001b[0mprint\u001b[0m\u001b[0;34m(\u001b[0m\u001b[0mtree\u001b[0m\u001b[0;34m)\u001b[0m\u001b[0;34m\u001b[0m\u001b[0m\n\u001b[1;32m     10\u001b[0m \u001b[0;34m\u001b[0m\u001b[0m\n\u001b[0;32m---> 11\u001b[0;31m     \u001b[0mprint\u001b[0m \u001b[0;34m(\u001b[0m\u001b[0;34m\"The size of the encoded data is: {}\\n\"\u001b[0m\u001b[0;34m.\u001b[0m\u001b[0mformat\u001b[0m\u001b[0;34m(\u001b[0m\u001b[0msys\u001b[0m\u001b[0;34m.\u001b[0m\u001b[0mgetsizeof\u001b[0m\u001b[0;34m(\u001b[0m\u001b[0mint\u001b[0m\u001b[0;34m(\u001b[0m\u001b[0mencoded_data\u001b[0m\u001b[0;34m,\u001b[0m \u001b[0mbase\u001b[0m\u001b[0;34m=\u001b[0m\u001b[0;36m2\u001b[0m\u001b[0;34m)\u001b[0m\u001b[0;34m)\u001b[0m\u001b[0;34m)\u001b[0m\u001b[0;34m)\u001b[0m\u001b[0;34m\u001b[0m\u001b[0m\n\u001b[0m\u001b[1;32m     12\u001b[0m     \u001b[0mprint\u001b[0m \u001b[0;34m(\u001b[0m\u001b[0;34m\"The content of the encoded data is: {}\\n\"\u001b[0m\u001b[0;34m.\u001b[0m\u001b[0mformat\u001b[0m\u001b[0;34m(\u001b[0m\u001b[0mencoded_data\u001b[0m\u001b[0;34m)\u001b[0m\u001b[0;34m)\u001b[0m\u001b[0;34m\u001b[0m\u001b[0m\n\u001b[1;32m     13\u001b[0m \u001b[0;34m\u001b[0m\u001b[0m\n",
      "\u001b[0;31mValueError\u001b[0m: invalid literal for int() with base 2: ''"
     ]
    }
   ],
   "source": [
    "test(\"kkkk\")"
   ]
  },
  {
   "cell_type": "code",
   "execution_count": 53,
   "metadata": {},
   "outputs": [
    {
     "name": "stdout",
     "output_type": "stream",
     "text": [
      "------- New Test ------- \n",
      "Input:     \n",
      "The size of the data is: 53\n",
      "\n",
      "Encoded data:  \n",
      "Tree with weight: 4\n",
      "' '\n",
      "None None \n",
      "\n"
     ]
    },
    {
     "ename": "ValueError",
     "evalue": "invalid literal for int() with base 2: ''",
     "output_type": "error",
     "traceback": [
      "\u001b[0;31m---------------------------------------------------------------------------\u001b[0m",
      "\u001b[0;31mValueError\u001b[0m                                Traceback (most recent call last)",
      "\u001b[0;32m<ipython-input-53-99d76c8bb77d>\u001b[0m in \u001b[0;36m<module>\u001b[0;34m\u001b[0m\n\u001b[0;32m----> 1\u001b[0;31m \u001b[0mtest\u001b[0m\u001b[0;34m(\u001b[0m\u001b[0;34m\"    \"\u001b[0m\u001b[0;34m)\u001b[0m\u001b[0;34m\u001b[0m\u001b[0m\n\u001b[0m",
      "\u001b[0;32m<ipython-input-49-48ce318e3854>\u001b[0m in \u001b[0;36mtest\u001b[0;34m(sentence)\u001b[0m\n\u001b[1;32m      9\u001b[0m     \u001b[0mprint\u001b[0m\u001b[0;34m(\u001b[0m\u001b[0mtree\u001b[0m\u001b[0;34m)\u001b[0m\u001b[0;34m\u001b[0m\u001b[0m\n\u001b[1;32m     10\u001b[0m \u001b[0;34m\u001b[0m\u001b[0m\n\u001b[0;32m---> 11\u001b[0;31m     \u001b[0mprint\u001b[0m \u001b[0;34m(\u001b[0m\u001b[0;34m\"The size of the encoded data is: {}\\n\"\u001b[0m\u001b[0;34m.\u001b[0m\u001b[0mformat\u001b[0m\u001b[0;34m(\u001b[0m\u001b[0msys\u001b[0m\u001b[0;34m.\u001b[0m\u001b[0mgetsizeof\u001b[0m\u001b[0;34m(\u001b[0m\u001b[0mint\u001b[0m\u001b[0;34m(\u001b[0m\u001b[0mencoded_data\u001b[0m\u001b[0;34m,\u001b[0m \u001b[0mbase\u001b[0m\u001b[0;34m=\u001b[0m\u001b[0;36m2\u001b[0m\u001b[0;34m)\u001b[0m\u001b[0;34m)\u001b[0m\u001b[0;34m)\u001b[0m\u001b[0;34m)\u001b[0m\u001b[0;34m\u001b[0m\u001b[0m\n\u001b[0m\u001b[1;32m     12\u001b[0m     \u001b[0mprint\u001b[0m \u001b[0;34m(\u001b[0m\u001b[0;34m\"The content of the encoded data is: {}\\n\"\u001b[0m\u001b[0;34m.\u001b[0m\u001b[0mformat\u001b[0m\u001b[0;34m(\u001b[0m\u001b[0mencoded_data\u001b[0m\u001b[0;34m)\u001b[0m\u001b[0;34m)\u001b[0m\u001b[0;34m\u001b[0m\u001b[0m\n\u001b[1;32m     13\u001b[0m \u001b[0;34m\u001b[0m\u001b[0m\n",
      "\u001b[0;31mValueError\u001b[0m: invalid literal for int() with base 2: ''"
     ]
    }
   ],
   "source": [
    "test(\"    \")"
   ]
  },
  {
   "cell_type": "code",
   "execution_count": null,
   "metadata": {},
   "outputs": [],
   "source": []
  }
 ],
 "metadata": {
  "kernelspec": {
   "display_name": "Python 3",
   "language": "python",
   "name": "python3"
  },
  "language_info": {
   "codemirror_mode": {
    "name": "ipython",
    "version": 3
   },
   "file_extension": ".py",
   "mimetype": "text/x-python",
   "name": "python",
   "nbconvert_exporter": "python",
   "pygments_lexer": "ipython3",
   "version": "3.5.6"
  }
 },
 "nbformat": 4,
 "nbformat_minor": 2
}
