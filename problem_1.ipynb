{
 "cells": [
  {
   "cell_type": "markdown",
   "metadata": {},
   "source": [
    "# Problem 1: LRU Cache"
   ]
  },
  {
   "cell_type": "markdown",
   "metadata": {},
   "source": [
    "In this problem, the goal is to design a data structure known as a Least Recently Used (LRU) cache. This is a type of cache in which we remove the least recently used entry when the cache memory reaches its limit. This problem is related to hash maps.\n",
    "\n",
    "Both `get()` and `set()` operations are considered as \"using\" an entry.\n",
    "\n",
    "The lookup operations (i.e. `get()` and `set()`) are supposed to be fast. \n",
    "\n",
    "`get()`:\n",
    "* If the entry is found in the cache, it is known as a cache hit.\n",
    "* If the entry is not found, it is a cache miss.\n",
    "\n",
    "### Upper bound\n",
    "When designing a cache, we place an upper bound on the size of the cache. When the cache is full, we handle the situation by removing the least recently used entry as described above. Once the entry is removed, we use the `put()` operation to insert the new element.\n",
    "\n",
    "### Behavior\n",
    "In case of a cache hit, the `get()` operation should return the appropriate value.\n",
    "In case of a cache miss, the `get()` should return -1.\n",
    "\n",
    "While putting an element in the cache, the `set()` operation must insert the element. If the cache is full, the least recently used entry must be removed before inserting the new element.\n",
    "\n",
    "All operations must take O(1) time."
   ]
  },
  {
   "cell_type": "code",
   "execution_count": 1,
   "metadata": {},
   "outputs": [],
   "source": [
    "class Node():\n",
    "    \n",
    "    def __init__(self, key, value):\n",
    "        \"\"\"\n",
    "        Node with pointers to previous and next nodes.\n",
    "        \"\"\"\n",
    "        self.key = key\n",
    "        self.value = value\n",
    "        self.next = None\n",
    "        self.prev = None\n",
    "        \n",
    "    def get_data(self):\n",
    "        \"\"\"\n",
    "        Return the key and value.\n",
    "        \"\"\"\n",
    "        return self.key, self.value"
   ]
  },
  {
   "cell_type": "code",
   "execution_count": 18,
   "metadata": {},
   "outputs": [],
   "source": [
    "class DoublyLinkedList():\n",
    "    \n",
    "    def __init__(self):\n",
    "        \"\"\"\n",
    "        Doubly linked list.\n",
    "        \"\"\"\n",
    "        self.head = None\n",
    "        self.tail = None\n",
    "        \n",
    "    def prepend(self, key, value):\n",
    "        \"\"\"\n",
    "        Creates a new node and prepends it to the front of the list.\n",
    "        \"\"\"\n",
    "        node = Node(key, value)\n",
    "        if not self.head:\n",
    "            self.head = node\n",
    "            self.tail = node\n",
    "        else:\n",
    "            node.next = self.head\n",
    "            self.head.prev = node\n",
    "            self.head = node\n",
    "        return node\n",
    "    \n",
    "    def update_node_to_mru(self, node):\n",
    "        \"\"\"\n",
    "        Updates the node position to be the most recently used (mru) node.\n",
    "        \"\"\"\n",
    "        if node is not self.head:            \n",
    "            prevNode = node.prev\n",
    "            nextNode = node.next\n",
    "            # Move node to the front of the list\n",
    "            node.next = self.head\n",
    "            self.head.prev = node\n",
    "            self.head = node\n",
    "            # Fix the \"gap\" I've created by moving the node to the front\n",
    "            prevNode.next = nextNode\n",
    "            if nextNode:\n",
    "                nextNode.prev = prevNode\n",
    "            else:\n",
    "                self.tail = prevNode\n",
    "                \n",
    "    def remove_lru(self):\n",
    "        \"\"\"\n",
    "        Remove the least recently used (lru) node, which is located\n",
    "        at the end of the list.\n",
    "        \"\"\"\n",
    "        key, value = self.tail.get_data()\n",
    "        self.tail = self.tail.prev\n",
    "        self.tail.next = None\n",
    "        \n",
    "        return key, value\n",
    "        \n",
    "    def __str__(self):\n",
    "        \"\"\"\n",
    "        String representation of the doubly linked list.\n",
    "        \"\"\"\n",
    "        s = \"\"\n",
    "        node = self.head\n",
    "        while node:\n",
    "            s += str(node.get_data()[1]) + \" <--> \"\n",
    "            node = node.next\n",
    "        return s\n",
    "        \n",
    "\n",
    "class LRU_Cache(object):\n",
    "\n",
    "    def __init__(self, capacity):\n",
    "        \"\"\"\n",
    "        Least recently used (LRU) cache with a fixed capacity.\n",
    "        \"\"\"\n",
    "        assert(capacity > 0), \"Capacity has to be larger than 0\"\n",
    "        # Initialize class variables\n",
    "        self.cache = {}\n",
    "        self.ll = DoublyLinkedList()\n",
    "        self.capacity = capacity\n",
    "\n",
    "    def get(self, key):\n",
    "        \"\"\"\n",
    "        Retrieves the item with the provided key. \n",
    "        Returns -1 if nonexistent.\n",
    "        \"\"\"\n",
    "        if key in self.cache:\n",
    "            self.ll.update_node_to_mru(self.cache[key])\n",
    "            return self.cache[key].get_data()[1]\n",
    "        else:\n",
    "            return -1\n",
    "\n",
    "    def set(self, key, value):\n",
    "        \"\"\"\n",
    "        Sets the value if the key is not present in the cache.\n",
    "        \n",
    "        If the cache is at capacity, it removes the oldest item before\n",
    "        inserting the new item.\n",
    "        \"\"\"\n",
    "        if len(self.cache) < self.capacity:\n",
    "            node = self.ll.prepend(key, value)\n",
    "            self.cache[key] = node\n",
    "        else:\n",
    "            removedKey, _ = self.ll.remove_lru()\n",
    "            self.cache.pop(removedKey)\n",
    "            node = self.ll.prepend(key, value)\n",
    "            self.cache[key] = node\n",
    "            \n",
    "    def __str__(self):\n",
    "        \"\"\"\n",
    "        String representation of the cache\n",
    "        \"\"\"\n",
    "        return self.ll.__str__()"
   ]
  },
  {
   "cell_type": "markdown",
   "metadata": {},
   "source": [
    "## Testcases"
   ]
  },
  {
   "cell_type": "code",
   "execution_count": 19,
   "metadata": {},
   "outputs": [
    {
     "name": "stdout",
     "output_type": "stream",
     "text": [
      "--- Testcase 1: Set elements ---\n",
      "1 <--> \n",
      "2 <--> 1 <--> \n",
      "3 <--> 2 <--> 1 <--> \n",
      "4 <--> 3 <--> 2 <--> 1 <--> \n"
     ]
    }
   ],
   "source": [
    "# ==== Testcase 1: Set elements ====\n",
    "# max capacity: 5\n",
    "# input: [1, 2, 3, 4]\n",
    "# expected output: \n",
    "# 1 <--> \n",
    "# 2 <--> 1 <--> \n",
    "# 3 <--> 2 <--> 1 <--> \n",
    "# 4 <--> 3 <--> 2 <--> 1 <--> \n",
    "\n",
    "print(\"--- Testcase 1: Set elements ---\")\n",
    "cache = LRU_Cache(5)\n",
    "for v in [1, 2, 3, 4]:\n",
    "    cache.set(v, v)\n",
    "    print(cache)"
   ]
  },
  {
   "cell_type": "code",
   "execution_count": 20,
   "metadata": {},
   "outputs": [
    {
     "name": "stdout",
     "output_type": "stream",
     "text": [
      "--- Testcase 2: Get elements ---\n",
      "get value  1  from cache:  1\n",
      "1 <--> 4 <--> 3 <--> 2 <--> \n",
      "get value  2  from cache:  2\n",
      "2 <--> 1 <--> 4 <--> 3 <--> \n",
      "get value  9  from cache:  -1\n",
      "2 <--> 1 <--> 4 <--> 3 <--> \n"
     ]
    }
   ],
   "source": [
    "# ==== Testcase 2: Get elements ====\n",
    "# input: [1, 2, 9]\n",
    "# expected output: \n",
    "# get value  1  from cache:  1\n",
    "# 1 <--> 4 <--> 3 <--> 2 <--> \n",
    "# get value  2  from cache:  2\n",
    "# 2 <--> 1 <--> 4 <--> 3 <--> \n",
    "# get value  9  from cache:  -1 (because 9 is not present in cache)\n",
    "# 2 <--> 1 <--> 4 <--> 3 <--> \n",
    "\n",
    "print(\"--- Testcase 2: Get elements ---\") \n",
    "for v in [1, 2, 9]:\n",
    "    print(\"get value \", v, \" from cache: \", cache.get(v))       \n",
    "    print(cache)"
   ]
  },
  {
   "cell_type": "code",
   "execution_count": 21,
   "metadata": {},
   "outputs": [
    {
     "name": "stdout",
     "output_type": "stream",
     "text": [
      "--- Testcase 3: Set more elements ---\n",
      "5 <--> 2 <--> 1 <--> 4 <--> 3 <--> \n",
      "6 <--> 5 <--> 2 <--> 1 <--> 4 <--> \n",
      "7 <--> 6 <--> 5 <--> 2 <--> 1 <--> \n"
     ]
    }
   ],
   "source": [
    "# ==== Testcase 3: Set more elements ====\n",
    "# input: [5, 6, 7]\n",
    "# expected output: \n",
    "# 5 <--> 2 <--> 1 <--> 4 <--> 3 <--> \n",
    "# 6 <--> 5 <--> 2 <--> 1 <--> 4 <--> \n",
    "# 7 <--> 6 <--> 5 <--> 2 <--> 1 <-->\n",
    "\n",
    "print(\"--- Testcase 3: Set more elements ---\")\n",
    "for v in [5, 6, 7]:\n",
    "    cache.set(v, v) \n",
    "    print(cache)"
   ]
  },
  {
   "cell_type": "code",
   "execution_count": 22,
   "metadata": {},
   "outputs": [
    {
     "name": "stdout",
     "output_type": "stream",
     "text": [
      "--- Testcase 4: Get more elements ---\n",
      "get value  3  from cache:  -1\n",
      "7 <--> 6 <--> 5 <--> 2 <--> 1 <--> \n",
      "get value  4  from cache:  -1\n",
      "7 <--> 6 <--> 5 <--> 2 <--> 1 <--> \n",
      "get value  5  from cache:  5\n",
      "5 <--> 7 <--> 6 <--> 2 <--> 1 <--> \n",
      "get value  a  from cache:  -1\n",
      "5 <--> 7 <--> 6 <--> 2 <--> 1 <--> \n"
     ]
    }
   ],
   "source": [
    "# ==== Testcase 4: Get more elements ====\n",
    "# input: [3, 4, 5, 'a']\n",
    "# expected output: \n",
    "# get value  3  from cache:  -1\n",
    "# 7 <--> 6 <--> 5 <--> 2 <--> 1 <--> \n",
    "# get value  4  from cache:  -1\n",
    "# 7 <--> 6 <--> 5 <--> 2 <--> 1 <--> \n",
    "# get value  5  from cache:  5\n",
    "# 5 <--> 7 <--> 6 <--> 2 <--> 1 <--> \n",
    "\n",
    "print(\"--- Testcase 4: Get more elements ---\")\n",
    "for v in [3, 4, 5, 'a']:\n",
    "    print(\"get value \", v, \" from cache: \", cache.get(v))  \n",
    "    print(cache)"
   ]
  },
  {
   "cell_type": "code",
   "execution_count": 23,
   "metadata": {},
   "outputs": [
    {
     "name": "stdout",
     "output_type": "stream",
     "text": [
      "--- Testcase 5: Don't set elements, try to retrieve elements ---\n",
      "get value  3  from cache:  -1\n",
      "\n",
      "get value  4  from cache:  -1\n",
      "\n",
      "get value  5  from cache:  -1\n",
      "\n",
      "get value  a  from cache:  -1\n",
      "\n"
     ]
    }
   ],
   "source": [
    "# ==== Testcase 5: Don't set elements, try to retrieve elements ====\n",
    "# set input: []\n",
    "# get input: [1, 2, 3]\n",
    "# expected output: \n",
    "# get value  3  from cache:  -1\n",
    "# \n",
    "# get value  4  from cache:  -1\n",
    "# \n",
    "# get value  5  from cache:  -1\n",
    "# \n",
    "# get value  a  from cache:  -1\n",
    "# \n",
    "\n",
    "cache = LRU_Cache(5)\n",
    "print(\"--- Testcase 5: Don't set elements, try to retrieve elements ---\")\n",
    "for v in [3, 4, 5, 'a']:\n",
    "    print(\"get value \", v, \" from cache: \", cache.get(v))  \n",
    "    print(cache)"
   ]
  },
  {
   "cell_type": "code",
   "execution_count": 24,
   "metadata": {},
   "outputs": [
    {
     "name": "stdout",
     "output_type": "stream",
     "text": [
      "--- Testcase 6: Play around with cache with max limit 0 ---\n"
     ]
    },
    {
     "ename": "AssertionError",
     "evalue": "Capacity has to be larger than 0",
     "output_type": "error",
     "traceback": [
      "\u001b[0;31m---------------------------------------------------------------------------\u001b[0m",
      "\u001b[0;31mAssertionError\u001b[0m                            Traceback (most recent call last)",
      "\u001b[0;32m<ipython-input-24-5a9c9829d80c>\u001b[0m in \u001b[0;36m<module>\u001b[0;34m\u001b[0m\n\u001b[1;32m      3\u001b[0m \u001b[0;34m\u001b[0m\u001b[0m\n\u001b[1;32m      4\u001b[0m \u001b[0mprint\u001b[0m\u001b[0;34m(\u001b[0m\u001b[0;34m\"--- Testcase 6: Play around with cache with max limit 0 ---\"\u001b[0m\u001b[0;34m)\u001b[0m\u001b[0;34m\u001b[0m\u001b[0m\n\u001b[0;32m----> 5\u001b[0;31m \u001b[0mcache\u001b[0m \u001b[0;34m=\u001b[0m \u001b[0mLRU_Cache\u001b[0m\u001b[0;34m(\u001b[0m\u001b[0;36m0\u001b[0m\u001b[0;34m)\u001b[0m\u001b[0;34m\u001b[0m\u001b[0m\n\u001b[0m\u001b[1;32m      6\u001b[0m \u001b[0;32mfor\u001b[0m \u001b[0mv\u001b[0m \u001b[0;32min\u001b[0m \u001b[0;34m[\u001b[0m\u001b[0;36m1\u001b[0m\u001b[0;34m,\u001b[0m \u001b[0;36m2\u001b[0m\u001b[0;34m,\u001b[0m \u001b[0;36m3\u001b[0m\u001b[0;34m]\u001b[0m\u001b[0;34m:\u001b[0m\u001b[0;34m\u001b[0m\u001b[0m\n\u001b[1;32m      7\u001b[0m     \u001b[0mcache\u001b[0m\u001b[0;34m.\u001b[0m\u001b[0mset\u001b[0m\u001b[0;34m(\u001b[0m\u001b[0mv\u001b[0m\u001b[0;34m,\u001b[0m \u001b[0mv\u001b[0m\u001b[0;34m)\u001b[0m\u001b[0;34m\u001b[0m\u001b[0m\n",
      "\u001b[0;32m<ipython-input-18-520c30807c93>\u001b[0m in \u001b[0;36m__init__\u001b[0;34m(self, capacity)\u001b[0m\n\u001b[1;32m     69\u001b[0m         \u001b[0mLeast\u001b[0m \u001b[0mrecently\u001b[0m \u001b[0mused\u001b[0m \u001b[0;34m(\u001b[0m\u001b[0mLRU\u001b[0m\u001b[0;34m)\u001b[0m \u001b[0mcache\u001b[0m \u001b[0;32mwith\u001b[0m \u001b[0ma\u001b[0m \u001b[0mfixed\u001b[0m \u001b[0mcapacity\u001b[0m\u001b[0;34m.\u001b[0m\u001b[0;34m\u001b[0m\u001b[0m\n\u001b[1;32m     70\u001b[0m         \"\"\"\n\u001b[0;32m---> 71\u001b[0;31m         \u001b[0;32massert\u001b[0m\u001b[0;34m(\u001b[0m\u001b[0mcapacity\u001b[0m \u001b[0;34m>\u001b[0m \u001b[0;36m0\u001b[0m\u001b[0;34m)\u001b[0m\u001b[0;34m,\u001b[0m \u001b[0;34m\"Capacity has to be larger than 0\"\u001b[0m\u001b[0;34m\u001b[0m\u001b[0m\n\u001b[0m\u001b[1;32m     72\u001b[0m         \u001b[0;31m# Initialize class variables\u001b[0m\u001b[0;34m\u001b[0m\u001b[0;34m\u001b[0m\u001b[0m\n\u001b[1;32m     73\u001b[0m         \u001b[0mself\u001b[0m\u001b[0;34m.\u001b[0m\u001b[0mcache\u001b[0m \u001b[0;34m=\u001b[0m \u001b[0;34m{\u001b[0m\u001b[0;34m}\u001b[0m\u001b[0;34m\u001b[0m\u001b[0m\n",
      "\u001b[0;31mAssertionError\u001b[0m: Capacity has to be larger than 0"
     ]
    }
   ],
   "source": [
    "# ==== Testcase 6: Play around with cache with max limit 0 ====\n",
    "# set input: [1, 2, 3]\n",
    "\n",
    "print(\"--- Testcase 6: Play around with cache with max limit 0 ---\")\n",
    "cache = LRU_Cache(0)\n",
    "for v in [1, 2, 3]:\n",
    "    cache.set(v, v)\n",
    "    print(cache)"
   ]
  },
  {
   "cell_type": "code",
   "execution_count": null,
   "metadata": {},
   "outputs": [],
   "source": []
  }
 ],
 "metadata": {
  "kernelspec": {
   "display_name": "Python 3",
   "language": "python",
   "name": "python3"
  },
  "language_info": {
   "codemirror_mode": {
    "name": "ipython",
    "version": 3
   },
   "file_extension": ".py",
   "mimetype": "text/x-python",
   "name": "python",
   "nbconvert_exporter": "python",
   "pygments_lexer": "ipython3",
   "version": "3.5.6"
  }
 },
 "nbformat": 4,
 "nbformat_minor": 2
}
