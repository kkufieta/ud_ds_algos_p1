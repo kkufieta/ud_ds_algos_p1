{
 "cells": [
  {
   "cell_type": "markdown",
   "metadata": {},
   "source": [
    "# Explanation for problem 2: File Recursion\n",
    "\n",
    "## Requirements\n",
    "There were no requirements for this problem.\n",
    "\n",
    "## Code Design\n",
    "Given a directory and a suffix, I am supposed to find and print all files in the directory with the specified suffix. That reminds me of searching a tree. I decided to use depth first search (DFS) and recursion to solve this problem.\n",
    "\n",
    "## Efficiency\n",
    "\n",
    "### Time efficiency\n",
    "Since it traverses all `N` (sub)directories, the time efficiency is equal to the total number of (sub)directories: `O(N)`\n",
    "\n",
    "### Space efficiency\n",
    "The algorithm is recursive and requires therefore additional space due to the call stack. \n",
    "\n",
    "If we look at the directory, its subdirectories and files as a tree with a width `N` at each level, and a depth `M` from each level, the call stack will be at most `M` levels deep, and at each level we need space for the array to save `N` paths. The space efficiency is therefore `O(NM)`."
   ]
  },
  {
   "cell_type": "code",
   "execution_count": null,
   "metadata": {},
   "outputs": [],
   "source": []
  }
 ],
 "metadata": {
  "kernelspec": {
   "display_name": "Python 3",
   "language": "python",
   "name": "python3"
  },
  "language_info": {
   "codemirror_mode": {
    "name": "ipython",
    "version": 3
   },
   "file_extension": ".py",
   "mimetype": "text/x-python",
   "name": "python",
   "nbconvert_exporter": "python",
   "pygments_lexer": "ipython3",
   "version": "3.5.6"
  }
 },
 "nbformat": 4,
 "nbformat_minor": 2
}
