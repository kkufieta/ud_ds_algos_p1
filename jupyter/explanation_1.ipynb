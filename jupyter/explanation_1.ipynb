{
 "cells": [
  {
   "cell_type": "markdown",
   "metadata": {},
   "source": [
    "# Explanation for problem 1: LRU Cache\n",
    "\n",
    "## Requirements\n",
    "The problem requires that all operations take `O(1)` time.\n",
    "The operations are: `get()` and `set()`.\n",
    "\n",
    "\n",
    "## Code Design\n",
    "\n",
    "Since the requirements are that all operations take `O(1)` time, I decided that combining a doubly linked list and a hash map is a good choice.\n",
    "\n",
    "The doubly linked list is used to keep track of the timely order when nodes were used.\n",
    "\n",
    "The hash map allows me to look up the requested node with `O(1)` time complexity.\n",
    "\n",
    "## Efficiency\n",
    "\n",
    "### Time efficiency for `get()`\n",
    "Looks up if the key is in the hash map (amortized `O(1)`). If yes, update the corresponding node in the linked list to be the most recently used node (`O(1)`).\n",
    "\n",
    "### Time efficiency for `set()`\n",
    "If the cache has not yet reached its capacity, insert the item both into the linked list and hash map (both `O(1)`).\n",
    "\n",
    "If the cache is full, remove the least recently used item from both the hash map and linked list (both `O(1)`). Then, add the item to the list and hash map (both `O(1)`).\n",
    "\n",
    "### Space efficiency\n",
    "The LRU Cache has a maximum capacity and can hold `N` items. Since we are using both a linked list and a hash map, we need O(2N) space, which we can simplify to `O(N)` space efficiency for large `N`.\n"
   ]
  }
 ],
 "metadata": {
  "kernelspec": {
   "display_name": "Python 3",
   "language": "python",
   "name": "python3"
  },
  "language_info": {
   "codemirror_mode": {
    "name": "ipython",
    "version": 3
   },
   "file_extension": ".py",
   "mimetype": "text/x-python",
   "name": "python",
   "nbconvert_exporter": "python",
   "pygments_lexer": "ipython3",
   "version": "3.5.6"
  }
 },
 "nbformat": 4,
 "nbformat_minor": 2
}
