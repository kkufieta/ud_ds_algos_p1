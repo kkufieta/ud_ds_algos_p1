{
 "cells": [
  {
   "cell_type": "markdown",
   "metadata": {},
   "source": [
    "# Problem 4: Active Directory\n",
    "\n",
    "In Windows Active Directory, a group can consist of user(s) and group(s) themselves. We can construct this hierarchy as such. Where User is represented by str representing their ids.\n",
    "\n",
    "Write a function that provides an efficient look up of whether the user is in a group."
   ]
  },
  {
   "cell_type": "code",
   "execution_count": 1,
   "metadata": {},
   "outputs": [],
   "source": [
    "class Group(object):\n",
    "    def __init__(self, _name):\n",
    "        \"\"\"\n",
    "        A group object has a name, list of groups and a list of users.\n",
    "        \"\"\"\n",
    "        self.name = _name\n",
    "        self.groups = []\n",
    "        self.users = []\n",
    "\n",
    "    def add_group(self, group):\n",
    "        \"\"\"\n",
    "        Adds a group to the group list.\n",
    "        \"\"\"\n",
    "        self.groups.append(group)\n",
    "\n",
    "    def add_user(self, user):\n",
    "        \"\"\"\n",
    "        Adds a user to the user list.\n",
    "        \"\"\"\n",
    "        self.users.append(user)\n",
    "\n",
    "    def get_groups(self):\n",
    "        \"\"\"\n",
    "        Returns the group list.\n",
    "        \"\"\"\n",
    "        return self.groups\n",
    "\n",
    "    def get_users(self):\n",
    "        \"\"\"\n",
    "        Returns the user list.\n",
    "        \"\"\"\n",
    "        return self.users\n",
    "\n",
    "    def get_name(self):\n",
    "        \"\"\"\n",
    "        Returns the name of the group.\n",
    "        \"\"\"\n",
    "        return self.name\n",
    "    \n",
    "    def __str__(self):\n",
    "        \"\"\"\n",
    "        String representation of the group.\n",
    "        \"\"\"\n",
    "        s = \"Group, name: \" + self.name + \", groups: [\"\n",
    "        for group in self.groups:\n",
    "            s += str(group) + \", \"\n",
    "        s += \"], users: \"\n",
    "        for user in self.users:\n",
    "            s += str(user) + \", \"\n",
    "        s += \"]\"\n",
    "        return s"
   ]
  },
  {
   "cell_type": "code",
   "execution_count": 2,
   "metadata": {},
   "outputs": [],
   "source": [
    "def is_user_in_group(user, group):\n",
    "    \"\"\"\n",
    "    Return True if user is in the group, False otherwise.\n",
    "\n",
    "    Args:\n",
    "      user(str): user name/id\n",
    "      group(class:Group): group to check user membership against\n",
    "    \"\"\"\n",
    "    visited_groups = set()\n",
    "    groups = [group]\n",
    "    while len(groups) > 0:\n",
    "        group = groups.pop(0)\n",
    "        if group in visited_groups:\n",
    "            continue\n",
    "        visited_groups.add(group)\n",
    "        users = group.get_users()\n",
    "        if user in users:\n",
    "            return True\n",
    "        groups.extend(group.get_groups())\n",
    "    return False"
   ]
  },
  {
   "cell_type": "markdown",
   "metadata": {},
   "source": [
    "# Tests"
   ]
  },
  {
   "cell_type": "code",
   "execution_count": 3,
   "metadata": {},
   "outputs": [
    {
     "name": "stdout",
     "output_type": "stream",
     "text": [
      "False\n",
      "False\n"
     ]
    }
   ],
   "source": [
    "# Input: A single group with no groups or users\n",
    "parent = Group(\"parent\")\n",
    "\n",
    "# Expected output: False\n",
    "print(is_user_in_group(\"sub_child_user\", parent))\n",
    "print(is_user_in_group(\"kittykat\", parent))"
   ]
  },
  {
   "cell_type": "code",
   "execution_count": 4,
   "metadata": {},
   "outputs": [],
   "source": [
    "# Add more groups and users\n",
    "child = Group(\"child\")\n",
    "sub_child = Group(\"subchild\")\n",
    "\n",
    "sub_child_user = \"sub_child_user\"\n",
    "sub_child.add_user(sub_child_user)\n",
    "\n",
    "child.add_group(sub_child)\n",
    "parent.add_group(child)"
   ]
  },
  {
   "cell_type": "code",
   "execution_count": 5,
   "metadata": {},
   "outputs": [
    {
     "name": "stdout",
     "output_type": "stream",
     "text": [
      "True\n"
     ]
    }
   ],
   "source": [
    "# Expected Output: True\n",
    "print(is_user_in_group(\"sub_child_user\", parent))"
   ]
  },
  {
   "cell_type": "code",
   "execution_count": 6,
   "metadata": {},
   "outputs": [
    {
     "name": "stdout",
     "output_type": "stream",
     "text": [
      "False\n"
     ]
    }
   ],
   "source": [
    "# Expected Output: False\n",
    "print(is_user_in_group(\"kittykat\", parent))"
   ]
  },
  {
   "cell_type": "code",
   "execution_count": 7,
   "metadata": {},
   "outputs": [],
   "source": [
    "# Input: Extend the network to contain a closed group\n",
    "sub_child.add_group(parent)"
   ]
  },
  {
   "cell_type": "code",
   "execution_count": 8,
   "metadata": {},
   "outputs": [
    {
     "name": "stdout",
     "output_type": "stream",
     "text": [
      "True\n"
     ]
    }
   ],
   "source": [
    "# Expected Output: True\n",
    "print(is_user_in_group(\"sub_child_user\", parent))"
   ]
  },
  {
   "cell_type": "code",
   "execution_count": 9,
   "metadata": {},
   "outputs": [
    {
     "name": "stdout",
     "output_type": "stream",
     "text": [
      "False\n"
     ]
    }
   ],
   "source": [
    "# Expected Output: False\n",
    "print(is_user_in_group(\"kittykat\", parent))"
   ]
  },
  {
   "cell_type": "code",
   "execution_count": 10,
   "metadata": {},
   "outputs": [
    {
     "name": "stdout",
     "output_type": "stream",
     "text": [
      "False\n",
      "False\n"
     ]
    }
   ],
   "source": [
    "# Create a new test with a group that has no groups or users\n",
    "empty_group = Group(\"nothing here\")\n",
    "\n",
    "# Expected output: False, False\n",
    "print(is_user_in_group(\"sub_child_user\", empty_group))\n",
    "print(is_user_in_group(\"kittykat\", empty_group))"
   ]
  }
 ],
 "metadata": {
  "kernelspec": {
   "display_name": "Python 3",
   "language": "python",
   "name": "python3"
  },
  "language_info": {
   "codemirror_mode": {
    "name": "ipython",
    "version": 3
   },
   "file_extension": ".py",
   "mimetype": "text/x-python",
   "name": "python",
   "nbconvert_exporter": "python",
   "pygments_lexer": "ipython3",
   "version": "3.5.6"
  }
 },
 "nbformat": 4,
 "nbformat_minor": 2
}
