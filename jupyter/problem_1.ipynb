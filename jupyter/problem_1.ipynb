{
 "cells": [
  {
   "cell_type": "markdown",
   "metadata": {},
   "source": [
    "# Problem 1: LRU Cache"
   ]
  },
  {
   "cell_type": "markdown",
   "metadata": {},
   "source": [
    "In this problem, the goal is to design a data structure known as a Least Recently Used (LRU) cache. This is a type of cache in which we remove the least recently used entry when the cache memory reaches its limit. This problem is related to hash maps.\n",
    "\n",
    "Both `get()` and `set()` operations are considered as \"using\" an entry.\n",
    "\n",
    "The lookup operations (i.e. `get()` and `set()`) are supposed to be fast. \n",
    "\n",
    "`get()`:\n",
    "* If the entry is found in the cache, it is known as a cache hit.\n",
    "* If the entry is not found, it is a cache miss.\n",
    "\n",
    "### Upper bound\n",
    "When designing a cache, we place an upper bound on the size of the cache. When the cache is full, we handle the situation by removing the least recently used entry as described above. Once the entry is removed, we use the `put()` operation to insert the new element.\n",
    "\n",
    "### Behavior\n",
    "In case of a cache hit, the `get()` operation should return the appropriate value.\n",
    "In case of a cache miss, the `get()` should return -1.\n",
    "\n",
    "While putting an element in the cache, the `set()` operation must insert the element. If the cache is full, the least recently used entry must be removed before inserting the new element.\n",
    "\n",
    "All operations must take O(1) time."
   ]
  },
  {
   "cell_type": "code",
   "execution_count": 1,
   "metadata": {},
   "outputs": [],
   "source": [
    "class Node():\n",
    "    \n",
    "    def __init__(self, key, value):\n",
    "        \"\"\"\n",
    "        Node with pointers to previous and next nodes.\n",
    "        \"\"\"\n",
    "        self.key = key\n",
    "        self.value = value\n",
    "        self.next = None\n",
    "        self.prev = None\n",
    "        \n",
    "    def set_data(self, value):\n",
    "        \"\"\"\n",
    "        Updates the value.\n",
    "        \"\"\"\n",
    "        self.value = value\n",
    "        \n",
    "    def get_data(self):\n",
    "        \"\"\"\n",
    "        Return the key and value.\n",
    "        \"\"\"\n",
    "        return self.key, self.value"
   ]
  },
  {
   "cell_type": "code",
   "execution_count": 2,
   "metadata": {},
   "outputs": [],
   "source": [
    "class DoublyLinkedList():\n",
    "    \n",
    "    def __init__(self):\n",
    "        \"\"\"\n",
    "        Doubly linked list.\n",
    "        \"\"\"\n",
    "        self.head = None\n",
    "        self.tail = None\n",
    "        \n",
    "    def prepend(self, key, value):\n",
    "        \"\"\"\n",
    "        Creates a new node and prepends it to the front of the list.\n",
    "        \"\"\"\n",
    "        node = Node(key, value)\n",
    "        if not self.head:\n",
    "            self.head = node\n",
    "            self.tail = node\n",
    "        else:\n",
    "            node.next = self.head\n",
    "            self.head.prev = node\n",
    "            self.head = node\n",
    "        return node\n",
    "    \n",
    "    def update_node_to_mru(self, node, value=None):\n",
    "        \"\"\"\n",
    "        Updates the node position to be the most recently used (mru) node.\n",
    "        \"\"\"\n",
    "        if value:\n",
    "            node.set_data(value)\n",
    "        if node is not self.head:            \n",
    "            prevNode = node.prev\n",
    "            nextNode = node.next\n",
    "            # Move node to the front of the list\n",
    "            node.next = self.head\n",
    "            self.head.prev = node\n",
    "            self.head = node\n",
    "            # Fix the \"gap\" I've created by moving the node to the front\n",
    "            prevNode.next = nextNode\n",
    "            if nextNode:\n",
    "                nextNode.prev = prevNode\n",
    "            else:\n",
    "                self.tail = prevNode\n",
    "                \n",
    "    def remove_lru(self):\n",
    "        \"\"\"\n",
    "        Remove the least recently used (lru) node, which is located\n",
    "        at the end of the list.\n",
    "        \"\"\"\n",
    "        key, value = self.tail.get_data()\n",
    "        self.tail = self.tail.prev\n",
    "        self.tail.next = None\n",
    "        \n",
    "        return key, value\n",
    "        \n",
    "    def __str__(self):\n",
    "        \"\"\"\n",
    "        String representation of the doubly linked list.\n",
    "        \"\"\"\n",
    "        s = \"\"\n",
    "        node = self.head\n",
    "        while node:\n",
    "            s += str((node.get_data())) + \" <--> \"\n",
    "            node = node.next\n",
    "        return s\n",
    "        \n",
    "\n",
    "class LRU_Cache(object):\n",
    "\n",
    "    def __init__(self, capacity):\n",
    "        \"\"\"\n",
    "        Least recently used (LRU) cache with a fixed capacity.\n",
    "        \"\"\"\n",
    "        assert(type(capacity) == int), \"Capacity has to be an integer\"\n",
    "        assert(capacity > 0), \"Capacity has to be larger than 0\"\n",
    "        # Initialize class variables\n",
    "        # self.cache maps the key to the respective node\n",
    "        self.cache = {}\n",
    "        self.ll = DoublyLinkedList()\n",
    "        self.capacity = capacity\n",
    "\n",
    "    def get(self, key):\n",
    "        \"\"\"\n",
    "        Retrieves the item with the provided key. \n",
    "        Returns -1 if nonexistent.\n",
    "        \"\"\"\n",
    "        if key in self.cache:\n",
    "            self.ll.update_node_to_mru(self.cache[key])\n",
    "            return self.cache[key].get_data()[1]\n",
    "        else:\n",
    "            return -1\n",
    "\n",
    "    def set(self, key, value):\n",
    "        \"\"\"\n",
    "        Sets the value if the key is not present in the cache.\n",
    "        \n",
    "        If the cache is at capacity, it removes the oldest item before\n",
    "        inserting the new item.\n",
    "        \"\"\"\n",
    "        if key in self.cache:\n",
    "            self.ll.update_node_to_mru(self.cache[key], value)\n",
    "        elif len(self.cache) < self.capacity:\n",
    "            node = self.ll.prepend(key, value)\n",
    "            self.cache[key] = node\n",
    "        else:\n",
    "            removedKey, _ = self.ll.remove_lru()\n",
    "            self.cache.pop(removedKey)\n",
    "            node = self.ll.prepend(key, value)\n",
    "            self.cache[key] = node\n",
    "            \n",
    "    def __str__(self):\n",
    "        \"\"\"\n",
    "        String representation of the cache\n",
    "        \"\"\"\n",
    "        return str(self.ll)"
   ]
  },
  {
   "cell_type": "markdown",
   "metadata": {},
   "source": [
    "## Testcases"
   ]
  },
  {
   "cell_type": "code",
   "execution_count": 3,
   "metadata": {},
   "outputs": [
    {
     "name": "stdout",
     "output_type": "stream",
     "text": [
      "--- Testcase 1: Set elements ---\n",
      "(1, 1) <--> \n",
      "(2, 2) <--> (1, 1) <--> \n",
      "(3, 3) <--> (2, 2) <--> (1, 1) <--> \n",
      "(4, 4) <--> (3, 3) <--> (2, 2) <--> (1, 1) <--> \n"
     ]
    }
   ],
   "source": [
    "# ==== Testcase 1: Set elements ====\n",
    "# max capacity: 5\n",
    "# input: [1, 2, 3, 4]\n",
    "# expected output: \n",
    "# (1, 1) <--> \n",
    "# (2, 2) <--> (1, 1) <--> \n",
    "# (3, 3) <--> (2, 2) <--> (1, 1) <--> \n",
    "# (4, 4) <--> (3, 3) <--> (2, 2) <--> (1, 1) <--> \n",
    "\n",
    "print(\"--- Testcase 1: Set elements ---\")\n",
    "cache = LRU_Cache(5)\n",
    "for v in [1, 2, 3, 4]:\n",
    "    cache.set(v, v)\n",
    "    print(cache)"
   ]
  },
  {
   "cell_type": "code",
   "execution_count": 4,
   "metadata": {},
   "outputs": [
    {
     "name": "stdout",
     "output_type": "stream",
     "text": [
      "--- Testcase 2: Get elements ---\n",
      "get value  1  from cache:  1\n",
      "(1, 1) <--> (4, 4) <--> (3, 3) <--> (2, 2) <--> \n",
      "get value  2  from cache:  2\n",
      "(2, 2) <--> (1, 1) <--> (4, 4) <--> (3, 3) <--> \n",
      "get value  9  from cache:  -1\n",
      "(2, 2) <--> (1, 1) <--> (4, 4) <--> (3, 3) <--> \n"
     ]
    }
   ],
   "source": [
    "# ==== Testcase 2: Get elements ====\n",
    "# input: [1, 2, 9]\n",
    "# expected output: \n",
    "# get value  1  from cache:  1\n",
    "# (1, 1) <--> (4, 4) <--> (3, 3) <--> (2, 2) <--> \n",
    "# get value  2  from cache:  2\n",
    "# (2, 2) <--> (1, 1) <--> (4, 4) <--> (3, 3) <--> \n",
    "# get value  9  from cache:  -1 (because 9 is not present in cache)\n",
    "# (2, 2) <--> (1, 1) <--> (4, 4) <--> (3, 3) <--> \n",
    "\n",
    "\n",
    "print(\"--- Testcase 2: Get elements ---\") \n",
    "for v in [1, 2, 9]:\n",
    "    print(\"get value \", v, \" from cache: \", cache.get(v))       \n",
    "    print(cache)"
   ]
  },
  {
   "cell_type": "code",
   "execution_count": 5,
   "metadata": {},
   "outputs": [
    {
     "name": "stdout",
     "output_type": "stream",
     "text": [
      "--- Testcase 3: Set more elements ---\n",
      "(2, 2) <--> (1, 1) <--> (4, 4) <--> (3, 3) <--> \n",
      "(5, 5) <--> (2, 2) <--> (1, 1) <--> (4, 4) <--> (3, 3) <--> \n",
      "(6, 6) <--> (5, 5) <--> (2, 2) <--> (1, 1) <--> (4, 4) <--> \n",
      "(7, 7) <--> (6, 6) <--> (5, 5) <--> (2, 2) <--> (1, 1) <--> \n"
     ]
    }
   ],
   "source": [
    "# ==== Testcase 3: Set more elements ====\n",
    "# input: [5, 6, 7]\n",
    "# expected output: \n",
    "#(2, 2) <--> (1, 1) <--> (4, 4) <--> (3, 3) <--> \n",
    "# (5, 5) <--> (2, 2) <--> (1, 1) <--> (4, 4) <--> (3, 3) <--> \n",
    "# (6, 6) <--> (5, 5) <--> (2, 2) <--> (1, 1) <--> (4, 4) <--> \n",
    "# (7, 7) <--> (6, 6) <--> (5, 5) <--> (2, 2) <--> (1, 1) <--> \n",
    "\n",
    "print(\"--- Testcase 3: Set more elements ---\")\n",
    "print(cache)\n",
    "for v in [5, 6, 7]:\n",
    "    cache.set(v, v) \n",
    "    print(cache)"
   ]
  },
  {
   "cell_type": "code",
   "execution_count": 6,
   "metadata": {},
   "outputs": [
    {
     "data": {
      "text/plain": [
       "{1: <__main__.Node at 0x10f9f66d8>,\n",
       " 2: <__main__.Node at 0x10f9f6f98>,\n",
       " 5: <__main__.Node at 0x10fa03588>,\n",
       " 6: <__main__.Node at 0x10f9f6fd0>,\n",
       " 7: <__main__.Node at 0x10f9f6748>}"
      ]
     },
     "execution_count": 6,
     "metadata": {},
     "output_type": "execute_result"
    }
   ],
   "source": [
    "cache.cache"
   ]
  },
  {
   "cell_type": "code",
   "execution_count": 7,
   "metadata": {},
   "outputs": [
    {
     "name": "stdout",
     "output_type": "stream",
     "text": [
      "--- Testcase 4: Get more elements ---\n",
      "get value  3  from cache:  -1\n",
      "(7, 7) <--> (6, 6) <--> (5, 5) <--> (2, 2) <--> (1, 1) <--> \n",
      "get value  4  from cache:  -1\n",
      "(7, 7) <--> (6, 6) <--> (5, 5) <--> (2, 2) <--> (1, 1) <--> \n",
      "get value  5  from cache:  5\n",
      "(5, 5) <--> (7, 7) <--> (6, 6) <--> (2, 2) <--> (1, 1) <--> \n",
      "get value  a  from cache:  -1\n",
      "(5, 5) <--> (7, 7) <--> (6, 6) <--> (2, 2) <--> (1, 1) <--> \n"
     ]
    }
   ],
   "source": [
    "# ==== Testcase 4: Get more elements ====\n",
    "# input: [3, 4, 5, 'a']\n",
    "# expected output: \n",
    "# get value  3  from cache:  -1\n",
    "# (7, 7) <--> (6, 6) <--> (5, 5) <--> (2, 2) <--> (1, 1) <--> \n",
    "# get value  4  from cache:  -1\n",
    "# (7, 7) <--> (6, 6) <--> (5, 5) <--> (2, 2) <--> (1, 1) <--> \n",
    "# get value  5  from cache:  5\n",
    "# (5, 5) <--> (7, 7) <--> (6, 6) <--> (2, 2) <--> (1, 1) <--> \n",
    "# get value  a  from cache:  -1\n",
    "# (5, 5) <--> (7, 7) <--> (6, 6) <--> (2, 2) <--> (1, 1) <--> \n",
    "\n",
    "print(\"--- Testcase 4: Get more elements ---\")\n",
    "for v in [3, 4, 5, 'a']:\n",
    "    print(\"get value \", v, \" from cache: \", cache.get(v))  \n",
    "    print(cache)"
   ]
  },
  {
   "cell_type": "code",
   "execution_count": 8,
   "metadata": {},
   "outputs": [
    {
     "name": "stdout",
     "output_type": "stream",
     "text": [
      "--- Testcase 5: Don't set elements, try to retrieve elements ---\n",
      "get value  3  from cache:  -1\n",
      "\n",
      "get value  4  from cache:  -1\n",
      "\n",
      "get value  5  from cache:  -1\n",
      "\n",
      "get value  a  from cache:  -1\n",
      "\n"
     ]
    }
   ],
   "source": [
    "# ==== Testcase 5: Don't set elements, try to retrieve elements ====\n",
    "# set input: []\n",
    "# get input: [1, 2, 3]\n",
    "# expected output: \n",
    "# get value  3  from cache:  -1\n",
    "# \n",
    "# get value  4  from cache:  -1\n",
    "# \n",
    "# get value  5  from cache:  -1\n",
    "# \n",
    "# get value  a  from cache:  -1\n",
    "# \n",
    "\n",
    "cache = LRU_Cache(5)\n",
    "print(\"--- Testcase 5: Don't set elements, try to retrieve elements ---\")\n",
    "for v in [3, 4, 5, 'a']:\n",
    "    print(\"get value \", v, \" from cache: \", cache.get(v))  \n",
    "    print(cache)"
   ]
  },
  {
   "cell_type": "code",
   "execution_count": 9,
   "metadata": {},
   "outputs": [
    {
     "name": "stdout",
     "output_type": "stream",
     "text": [
      "--- Testcase 6: Set elements ---\n",
      "(1, 1) <--> \n",
      "(2, 2) <--> (1, 1) <--> \n",
      "(1, 1) <--> (2, 2) <--> \n",
      "(4, 4) <--> (1, 1) <--> (2, 2) <--> \n",
      "(5, 5) <--> (4, 4) <--> (1, 1) <--> (2, 2) <--> \n",
      "('abc', 'abc') <--> (5, 5) <--> (4, 4) <--> (1, 1) <--> (2, 2) <--> \n",
      "(8, 8) <--> ('abc', 'abc') <--> (5, 5) <--> (4, 4) <--> (1, 1) <--> \n",
      "('abc', 'abc') <--> (8, 8) <--> (5, 5) <--> (4, 4) <--> (1, 1) <--> \n"
     ]
    }
   ],
   "source": [
    "# ==== Testcase 6: Set duplicate elements and non-numeric entries ====\n",
    "# max capacity: 5\n",
    "# input: [1, 2, 3, 4, 1]\n",
    "# expected output: \n",
    "# (1, 1) <--> \n",
    "# (2, 2) <--> (1, 1) <--> \n",
    "# (1, 1) <--> (2, 2) <--> \n",
    "# (4, 4) <--> (1, 1) <--> (2, 2) <--> \n",
    "# (5, 5) <--> (4, 4) <--> (1, 1) <--> (2, 2) <--> \n",
    "# ('abc', 'abc') <--> (5, 5) <--> (4, 4) <--> (1, 1) <--> (2, 2) <--> \n",
    "# (8, 8) <--> ('abc', 'abc') <--> (5, 5) <--> (4, 4) <--> (1, 1) <--> \n",
    "# ('abc', 'abc') <--> (8, 8) <--> (5, 5) <--> (4, 4) <--> (1, 1) <--> \n",
    "\n",
    "print(\"--- Testcase 6: Set elements ---\")\n",
    "cache = LRU_Cache(5)\n",
    "for v in [1, 2, 1, 4, 5, 'abc', 8, 'abc']:\n",
    "    cache.set(v, v)\n",
    "    print(cache)"
   ]
  },
  {
   "cell_type": "code",
   "execution_count": 10,
   "metadata": {},
   "outputs": [
    {
     "name": "stdout",
     "output_type": "stream",
     "text": [
      "(1, 1) <--> \n",
      "(2, 2) <--> (1, 1) <--> \n",
      "(1, 10) <--> (2, 2) <--> \n",
      "Retrieve node with key 1\n",
      "10\n",
      "(1, 10) <--> (2, 2) <--> \n",
      "Retrieve node with key 2\n",
      "2\n",
      "(2, 2) <--> (1, 10) <--> \n"
     ]
    }
   ],
   "source": [
    "# ==== Testcase 7: Change the value in an already existing node ====\n",
    "# expected output:\n",
    "# (1, 1) <--> \n",
    "# ( 2, 2) <--> (1, 1) <--> \n",
    "# (1, 10) <--> (2, 2) <--> \n",
    "# Retrieve node with key 1\n",
    "# 10\n",
    "# (1, 10) <--> (2, 2) <--> \n",
    "# Retrieve node with key 2\n",
    "# 2\n",
    "# (2, 2) <--> (1, 10) <--> \n",
    "\n",
    "cache = LRU_Cache(2)\n",
    "for v in [1, 2]:\n",
    "    cache.set(v, v)\n",
    "    print(cache)\n",
    "cache.set(1, 10)\n",
    "print(cache)\n",
    "print(\"Retrieve node with key 1\")\n",
    "print(cache.get(1)) # should return 10\n",
    "print(cache)\n",
    "print(\"Retrieve node with key 2\")\n",
    "print(cache.get(2)) # should return 2\n",
    "print(cache)"
   ]
  },
  {
   "cell_type": "code",
   "execution_count": 11,
   "metadata": {},
   "outputs": [
    {
     "name": "stdout",
     "output_type": "stream",
     "text": [
      "--- Testcase 7: Play around with cache with max limit 0 ---\n"
     ]
    },
    {
     "ename": "AssertionError",
     "evalue": "Capacity has to be larger than 0",
     "output_type": "error",
     "traceback": [
      "\u001b[0;31m---------------------------------------------------------------------------\u001b[0m",
      "\u001b[0;31mAssertionError\u001b[0m                            Traceback (most recent call last)",
      "\u001b[0;32m<ipython-input-11-b924ec287d30>\u001b[0m in \u001b[0;36m<module>\u001b[0;34m\u001b[0m\n\u001b[1;32m      3\u001b[0m \u001b[0;34m\u001b[0m\u001b[0m\n\u001b[1;32m      4\u001b[0m \u001b[0mprint\u001b[0m\u001b[0;34m(\u001b[0m\u001b[0;34m\"--- Testcase 7: Play around with cache with max limit 0 ---\"\u001b[0m\u001b[0;34m)\u001b[0m\u001b[0;34m\u001b[0m\u001b[0m\n\u001b[0;32m----> 5\u001b[0;31m \u001b[0mcache\u001b[0m \u001b[0;34m=\u001b[0m \u001b[0mLRU_Cache\u001b[0m\u001b[0;34m(\u001b[0m\u001b[0;36m0\u001b[0m\u001b[0;34m)\u001b[0m\u001b[0;34m\u001b[0m\u001b[0m\n\u001b[0m\u001b[1;32m      6\u001b[0m \u001b[0;32mfor\u001b[0m \u001b[0mv\u001b[0m \u001b[0;32min\u001b[0m \u001b[0;34m[\u001b[0m\u001b[0;36m1\u001b[0m\u001b[0;34m,\u001b[0m \u001b[0;36m2\u001b[0m\u001b[0;34m,\u001b[0m \u001b[0;36m3\u001b[0m\u001b[0;34m]\u001b[0m\u001b[0;34m:\u001b[0m\u001b[0;34m\u001b[0m\u001b[0m\n\u001b[1;32m      7\u001b[0m     \u001b[0mcache\u001b[0m\u001b[0;34m.\u001b[0m\u001b[0mset\u001b[0m\u001b[0;34m(\u001b[0m\u001b[0mv\u001b[0m\u001b[0;34m,\u001b[0m \u001b[0mv\u001b[0m\u001b[0;34m)\u001b[0m\u001b[0;34m\u001b[0m\u001b[0m\n",
      "\u001b[0;32m<ipython-input-2-30e908204068>\u001b[0m in \u001b[0;36m__init__\u001b[0;34m(self, capacity)\u001b[0m\n\u001b[1;32m     72\u001b[0m         \"\"\"\n\u001b[1;32m     73\u001b[0m         \u001b[0;32massert\u001b[0m\u001b[0;34m(\u001b[0m\u001b[0mtype\u001b[0m\u001b[0;34m(\u001b[0m\u001b[0mcapacity\u001b[0m\u001b[0;34m)\u001b[0m \u001b[0;34m==\u001b[0m \u001b[0mint\u001b[0m\u001b[0;34m)\u001b[0m\u001b[0;34m,\u001b[0m \u001b[0;34m\"Capacity has to be an integer\"\u001b[0m\u001b[0;34m\u001b[0m\u001b[0m\n\u001b[0;32m---> 74\u001b[0;31m         \u001b[0;32massert\u001b[0m\u001b[0;34m(\u001b[0m\u001b[0mcapacity\u001b[0m \u001b[0;34m>\u001b[0m \u001b[0;36m0\u001b[0m\u001b[0;34m)\u001b[0m\u001b[0;34m,\u001b[0m \u001b[0;34m\"Capacity has to be larger than 0\"\u001b[0m\u001b[0;34m\u001b[0m\u001b[0m\n\u001b[0m\u001b[1;32m     75\u001b[0m         \u001b[0;31m# Initialize class variables\u001b[0m\u001b[0;34m\u001b[0m\u001b[0;34m\u001b[0m\u001b[0m\n\u001b[1;32m     76\u001b[0m         \u001b[0;31m# self.cache maps the key to the respective node\u001b[0m\u001b[0;34m\u001b[0m\u001b[0;34m\u001b[0m\u001b[0m\n",
      "\u001b[0;31mAssertionError\u001b[0m: Capacity has to be larger than 0"
     ]
    }
   ],
   "source": [
    "# ==== Testcase 8: Play around with cache with max limit 0 ====\n",
    "# set input: [1, 2, 3]\n",
    "\n",
    "print(\"--- Testcase 7: Play around with cache with max limit 0 ---\")\n",
    "cache = LRU_Cache(0)\n",
    "for v in [1, 2, 3]:\n",
    "    cache.set(v, v)\n",
    "    print(cache)"
   ]
  }
 ],
 "metadata": {
  "kernelspec": {
   "display_name": "Python 3",
   "language": "python",
   "name": "python3"
  },
  "language_info": {
   "codemirror_mode": {
    "name": "ipython",
    "version": 3
   },
   "file_extension": ".py",
   "mimetype": "text/x-python",
   "name": "python",
   "nbconvert_exporter": "python",
   "pygments_lexer": "ipython3",
   "version": "3.5.6"
  }
 },
 "nbformat": 4,
 "nbformat_minor": 2
}
