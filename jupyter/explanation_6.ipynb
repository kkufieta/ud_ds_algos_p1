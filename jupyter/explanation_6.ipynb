{
 "cells": [
  {
   "cell_type": "markdown",
   "metadata": {},
   "source": [
    "# Explanation for problem 6: Union & Intersection of Two Linked Lists\n",
    "\n",
    "## Requirements\n",
    "There were no requirements for this problem.\n",
    "\n",
    "## Code Design\n",
    "The block chain is similar to a linked list, where the pointers point to the previous node (as opposed to the next one).\n",
    "\n",
    "I am therefore keeping track of the \"head\" of the blockchain, which in my case is the most recently added block. This was merely a choice of terminology.\n",
    "\n",
    "The genesis block points to the first block that was inserted.\n",
    "\n",
    "\n",
    "## Efficiency\n",
    "\n",
    "### Time efficiency\n",
    "The insertion of a block into the block chain takes `O(1)` time.\n",
    "\n",
    "Traversing the block chain to retrieve a specific block requires `O(N)` time (here not implemented but is straight forward).\n",
    "\n",
    "\n",
    "### Space efficiency\n",
    "The block chain requires `O(N)` space."
   ]
  }
 ],
 "metadata": {
  "kernelspec": {
   "display_name": "Python 3",
   "language": "python",
   "name": "python3"
  },
  "language_info": {
   "codemirror_mode": {
    "name": "ipython",
    "version": 3
   },
   "file_extension": ".py",
   "mimetype": "text/x-python",
   "name": "python",
   "nbconvert_exporter": "python",
   "pygments_lexer": "ipython3",
   "version": "3.5.6"
  }
 },
 "nbformat": 4,
 "nbformat_minor": 2
}
