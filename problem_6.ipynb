{
 "cells": [
  {
   "cell_type": "markdown",
   "metadata": {},
   "source": [
    "# Problem 6: Union and Intersection of Two Linked Lists\n",
    "\n",
    "Your task for this problem is to fill out the union and intersection functions. The union of two sets A and B is the set of elements which are in A, in B, or in both A and B. The intersection of two sets A and B, denoted by A ∩ B, is the set of all objects that are members of both the sets A and B.\n",
    "\n",
    "You will take in two linked lists and return a linked list that is composed of either the union or intersection, respectively."
   ]
  },
  {
   "cell_type": "markdown",
   "metadata": {},
   "source": [
    "### Node"
   ]
  },
  {
   "cell_type": "code",
   "execution_count": 1,
   "metadata": {},
   "outputs": [],
   "source": [
    "class Node:\n",
    "    def __init__(self, value):\n",
    "        \"\"\"\n",
    "        Simple node with a pointer to the next node.\n",
    "        \"\"\"\n",
    "        self.value = value\n",
    "        self.next = None\n",
    "\n",
    "    def __str__(self):\n",
    "        \"\"\"\n",
    "        String representation of the node\n",
    "        \"\"\"\n",
    "        return str(self.value)"
   ]
  },
  {
   "cell_type": "markdown",
   "metadata": {},
   "source": [
    "## Linked List"
   ]
  },
  {
   "cell_type": "code",
   "execution_count": 2,
   "metadata": {},
   "outputs": [],
   "source": [
    "class LinkedList:\n",
    "    def __init__(self):\n",
    "        \"\"\"\n",
    "        Linked list with a reference to both the head and the tail.\n",
    "        \"\"\"\n",
    "        self.head = None\n",
    "        self.tail = None\n",
    "        self.len = 0\n",
    "\n",
    "    def append(self, value):\n",
    "        \"\"\"\n",
    "        Appends a value to the end of the linked list.\n",
    "        \"\"\"\n",
    "        if self.head is None:\n",
    "            self.head = Node(value)\n",
    "            self.tail = self.head\n",
    "        else:\n",
    "            self.tail.next = Node(value)\n",
    "            self.tail = self.tail.next\n",
    "        self.len += 1\n",
    "        \n",
    "    def get_head(self):\n",
    "        \"\"\"\n",
    "        Returns the head of the linked list.\n",
    "        \"\"\"\n",
    "        return self.head\n",
    "    \n",
    "    def get_tail(self):\n",
    "        \"\"\"\n",
    "        Returns the tail of the linked list.\n",
    "        \"\"\"\n",
    "        return self.tail\n",
    "    \n",
    "    def __iter__(self):\n",
    "        \"\"\"\n",
    "        Iterates through the linked list.\n",
    "        \"\"\"\n",
    "        node = self.head\n",
    "        while node:\n",
    "            yield node.value\n",
    "            node = node.next\n",
    "\n",
    "    def __len__(self):\n",
    "        \"\"\"\n",
    "        Returns the length of the linked list.\n",
    "        \"\"\"\n",
    "        return self.len\n",
    "    \n",
    "    def __str__(self):\n",
    "        \"\"\"\n",
    "        String representation of the linked list.\n",
    "        \"\"\"\n",
    "        cur_head = self.head\n",
    "        out_string = \"\"\n",
    "        while cur_head:\n",
    "            out_string += str(cur_head.value) + \" -> \"\n",
    "            cur_head = cur_head.next\n",
    "        return out_string"
   ]
  },
  {
   "cell_type": "markdown",
   "metadata": {},
   "source": [
    "## Union"
   ]
  },
  {
   "cell_type": "code",
   "execution_count": 3,
   "metadata": {},
   "outputs": [],
   "source": [
    "def union(list_1, list_2):\n",
    "    \"\"\"\n",
    "    Returns a linked list containing the union of the two linked lists.\n",
    "    \"\"\"    \n",
    "    items = set()\n",
    "    for item in list_1:\n",
    "        items.add(item)\n",
    "    for item in list_2:\n",
    "        items.add(item)\n",
    "    union = LinkedList()\n",
    "    for item in items:\n",
    "        union.append(item)\n",
    "    return union"
   ]
  },
  {
   "cell_type": "markdown",
   "metadata": {},
   "source": [
    "## Intersection"
   ]
  },
  {
   "cell_type": "code",
   "execution_count": 4,
   "metadata": {},
   "outputs": [],
   "source": [
    "def intersection(list_1, list_2):\n",
    "    if len(list_1) == 0:\n",
    "        return list_1\n",
    "    if len(list_2) == 0:\n",
    "        return list_2\n",
    "    \n",
    "    items_1 = set()\n",
    "    items_2 = set()\n",
    "    for item in list_1:\n",
    "        items_1.add(item)\n",
    "    for item in list_2:\n",
    "        items_2.add(item)\n",
    "    \n",
    "    # using sorted on a set transforms the set into a sorted list\n",
    "    items_1 = sorted(items_1)\n",
    "    items_2 = sorted(items_2)\n",
    "    \n",
    "    i_1, i_2 = 0, 0\n",
    "    intersection = LinkedList()\n",
    "    while i_1 < len(items_1) and i_2 < len(items_2):\n",
    "        if items_1[i_1] == items_2[i_2]:\n",
    "            intersection.append(items_1[i_1])\n",
    "            i_1 += 1\n",
    "            i_2 += 1\n",
    "        elif items_1[i_1] < items_2[i_2]:\n",
    "            i_1 += 1\n",
    "        else:\n",
    "            i_2 += 1\n",
    "    return intersection"
   ]
  },
  {
   "cell_type": "markdown",
   "metadata": {},
   "source": [
    "## Tests"
   ]
  },
  {
   "cell_type": "code",
   "execution_count": 5,
   "metadata": {},
   "outputs": [
    {
     "name": "stdout",
     "output_type": "stream",
     "text": [
      "Union:  32 -> 65 -> 2 -> 35 -> 3 -> 4 -> 6 -> 1 -> 9 -> 11 -> 21 -> \n",
      "Intersection:  4 -> 6 -> 21 -> \n"
     ]
    }
   ],
   "source": [
    "# Test case 1\n",
    "l_1 = LinkedList()\n",
    "l_2 = LinkedList()\n",
    "\n",
    "for el in [3,2,4,35,6,65,6,4,3,21]:\n",
    "    l_1.append(el)\n",
    "\n",
    "for el in [6,32,4,9,6,1,11,21,1]:\n",
    "    l_2.append(el)\n",
    "\n",
    "# Expected output (another order is possible) in linked list format\n",
    "# should contain these elements:\n",
    "# [32, 5, 2, 35, 3, 4, 6, 1, 9, 11, 21]\n",
    "print(\"Union: \", union(l_1,l_2))\n",
    "\n",
    "# Expected output (another order is possible) in linked list format\n",
    "# [4, 6, 21]\n",
    "print(\"Intersection: \", intersection(l_1,l_2))"
   ]
  },
  {
   "cell_type": "code",
   "execution_count": 6,
   "metadata": {},
   "outputs": [
    {
     "name": "stdout",
     "output_type": "stream",
     "text": [
      "Union:  65 -> 2 -> 35 -> 3 -> 4 -> 6 -> 1 -> 7 -> 8 -> 9 -> 11 -> 21 -> 23 -> \n",
      "Intersection:  \n"
     ]
    }
   ],
   "source": [
    "# Test case 2\n",
    "l_1 = LinkedList()\n",
    "l_2 = LinkedList()\n",
    "\n",
    "for el in [3,2,4,35,6,65,6,4,3,23]:\n",
    "    l_1.append(el)\n",
    "\n",
    "for el in [1,7,8,9,11,21,1]:\n",
    "    l_2.append(el)\n",
    "\n",
    "# Expected output (another order is possible) in linked list format\n",
    "# [3,2,4,35,65,6,23,7,8,9,11,21,1]\n",
    "print(\"Union: \", union(l_1,l_2))\n",
    "\n",
    "# Expected output (another order is possible) in linked list format\n",
    "# []\n",
    "print(\"Intersection: \", intersection(l_1,l_2))"
   ]
  },
  {
   "cell_type": "code",
   "execution_count": 7,
   "metadata": {},
   "outputs": [
    {
     "name": "stdout",
     "output_type": "stream",
     "text": [
      "Union:  \n",
      "Intersection:  \n"
     ]
    }
   ],
   "source": [
    "# Test case 3\n",
    "l_1 = LinkedList()\n",
    "l_2 = LinkedList()\n",
    "\n",
    "# We don't append any information\n",
    "\n",
    "# Expected output (another order is possible) in linked list format\n",
    "# []\n",
    "print(\"Union: \", union(l_1,l_2))\n",
    "\n",
    "# Expected output (another order is possible) in linked list format\n",
    "# []\n",
    "print(\"Intersection: \", intersection(l_1,l_2))"
   ]
  },
  {
   "cell_type": "code",
   "execution_count": 8,
   "metadata": {},
   "outputs": [
    {
     "name": "stdout",
     "output_type": "stream",
     "text": [
      "Union:  1 -> \n",
      "Intersection:  \n"
     ]
    }
   ],
   "source": [
    "# Test case 4\n",
    "l_1 = LinkedList()\n",
    "l_2 = LinkedList()\n",
    "\n",
    "for el in [1,1,1]:\n",
    "    l_2.append(el)\n",
    "\n",
    "# Expected output (another order is possible) in linked list format\n",
    "# [1]\n",
    "print(\"Union: \", union(l_1,l_2))\n",
    "\n",
    "# Expected output (another order is possible) in linked list format\n",
    "# []\n",
    "print(\"Intersection: \", intersection(l_1,l_2))"
   ]
  },
  {
   "cell_type": "code",
   "execution_count": 9,
   "metadata": {},
   "outputs": [
    {
     "name": "stdout",
     "output_type": "stream",
     "text": [
      "Union:  1 -> \n",
      "Intersection:  1 -> \n"
     ]
    }
   ],
   "source": [
    "# Test case 5\n",
    "l_1 = LinkedList()\n",
    "l_2 = LinkedList()\n",
    "\n",
    "for el in [1,1,1]:\n",
    "    l_2.append(el)\n",
    "    l_1.append(el)\n",
    "\n",
    "# Expected output (another order is possible) in linked list format\n",
    "# [1]\n",
    "print(\"Union: \", union(l_1,l_2))\n",
    "\n",
    "# Expected output (another order is possible) in linked list format\n",
    "# [1]\n",
    "print(\"Intersection: \", intersection(l_1,l_2))"
   ]
  },
  {
   "cell_type": "code",
   "execution_count": null,
   "metadata": {},
   "outputs": [],
   "source": []
  }
 ],
 "metadata": {
  "kernelspec": {
   "display_name": "Python 3",
   "language": "python",
   "name": "python3"
  },
  "language_info": {
   "codemirror_mode": {
    "name": "ipython",
    "version": 3
   },
   "file_extension": ".py",
   "mimetype": "text/x-python",
   "name": "python",
   "nbconvert_exporter": "python",
   "pygments_lexer": "ipython3",
   "version": "3.5.6"
  }
 },
 "nbformat": 4,
 "nbformat_minor": 2
}
