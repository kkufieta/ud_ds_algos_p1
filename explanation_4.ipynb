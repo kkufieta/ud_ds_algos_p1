{
 "cells": [
  {
   "cell_type": "markdown",
   "metadata": {},
   "source": [
    "# Explanation for problem 4: Active Directory\n",
    "\n",
    "## Requirements\n",
    "There were no requirements for this problem.\n",
    "\n",
    "## Code Design\n",
    "This problem reminded me of a graph traversal where you have to watch out for closed loops where you might get stuck in.\n",
    "\n",
    "I use a queue where I keep track of all the groups I have to search in order to find out if the user is in the group. To make sure that I don't get stuck in a closed loop, I keep a set of visited groups. If I have already visited a group previously, I simply pass over it.\n",
    "\n",
    "## Efficiency\n",
    "\n",
    "### Time efficiency\n",
    "Assuming that the input size is how deeply nested the groups are, e.g. a graph of groups with `N` nodes, I visit each node once. Then, when the list of users is of size `M`, I search the list once for the desired user.\n",
    "\n",
    "Thus, the time complexity for this search operation is `O(N*M)` in the worst case.\n",
    "\n",
    "### Space efficiency\n",
    "I keep a queue with groups I have to search through, and a set of groups I have visited. Each of them has at most `N` entries, so the total of required space is in the worst case `O(2N)`, or simplified for large `N`: `O(N)`."
   ]
  }
 ],
 "metadata": {
  "kernelspec": {
   "display_name": "Python 3",
   "language": "python",
   "name": "python3"
  },
  "language_info": {
   "codemirror_mode": {
    "name": "ipython",
    "version": 3
   },
   "file_extension": ".py",
   "mimetype": "text/x-python",
   "name": "python",
   "nbconvert_exporter": "python",
   "pygments_lexer": "ipython3",
   "version": "3.5.6"
  }
 },
 "nbformat": 4,
 "nbformat_minor": 2
}
