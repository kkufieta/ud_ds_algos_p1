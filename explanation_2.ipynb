{
 "cells": [
  {
   "cell_type": "markdown",
   "metadata": {},
   "source": [
    "# Explanation for problem 2: File Recursion\n",
    "\n",
    "## Requirements\n",
    "There were no requirements for this problem.\n",
    "\n",
    "## Code Design\n",
    "Given a directory and a suffix, I am supposed to find and print all files in the directory with the specified suffix. That reminds me of searching a tree. I decided to use depth first search (DFS) and recursion to solve this problem.\n",
    "\n",
    "## Efficiency\n",
    "\n",
    "### Time efficiency\n",
    "Since it traverses all `N` (sub)directories, the time efficiency is equal to the total number of (sub)directories: `O(N)`\n",
    "\n",
    "### Space efficiency\n",
    "Worst case it saves all `N` paths in an array, so the space efficiency is `O(N)`."
   ]
  }
 ],
 "metadata": {
  "kernelspec": {
   "display_name": "Python 3",
   "language": "python",
   "name": "python3"
  },
  "language_info": {
   "codemirror_mode": {
    "name": "ipython",
    "version": 3
   },
   "file_extension": ".py",
   "mimetype": "text/x-python",
   "name": "python",
   "nbconvert_exporter": "python",
   "pygments_lexer": "ipython3",
   "version": "3.5.6"
  }
 },
 "nbformat": 4,
 "nbformat_minor": 2
}
