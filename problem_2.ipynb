{
 "cells": [
  {
   "cell_type": "markdown",
   "metadata": {},
   "source": [
    "# Problem 2: File Recursion\n",
    "For this problem, the goal is to write code for finding all files under a directory (and all directories beneath it) that end with \".c\""
   ]
  },
  {
   "cell_type": "markdown",
   "metadata": {},
   "source": [
    "Note: os.walk() is a handy Python method which can achieve this task very easily. However, for this problem you are not allowed to use os.walk()."
   ]
  },
  {
   "cell_type": "code",
   "execution_count": 1,
   "metadata": {},
   "outputs": [],
   "source": [
    "import os\n",
    "def find_files(suffix, path):\n",
    "    \"\"\"\n",
    "    Find all files beneath path with file name suffix.\n",
    "\n",
    "    Note that a path may contain further subdirectories\n",
    "    and those subdirectories may also contain further subdirectories.\n",
    "\n",
    "    There are no limit to the depth of the subdirectories can be.\n",
    "\n",
    "    Args:\n",
    "      suffix(str): suffix if the file name to be found\n",
    "      path(str): path of the file system\n",
    "\n",
    "    Returns:\n",
    "       a list of paths\n",
    "    \"\"\"\n",
    "    files = []\n",
    "    \n",
    "    # Check if the current path is a file. If yes, simply return it\n",
    "    if os.path.isfile(path) and path.endswith(suffix):\n",
    "        return [path]\n",
    "    \n",
    "    # Check the current path for subdirectories and files\n",
    "    subFiles = os.listdir(path)\n",
    "    for file in subFiles:\n",
    "        filePath = path + \"/\" + file\n",
    "        if not os.path.isfile(filePath):\n",
    "            foundFiles = find_files(suffix, filePath)\n",
    "            for foundFile in foundFiles:\n",
    "                files.extend([foundFile])\n",
    "        elif filePath.endswith(suffix):\n",
    "            files.extend([filePath])\n",
    "            \n",
    "    return files"
   ]
  },
  {
   "cell_type": "markdown",
   "metadata": {},
   "source": [
    "## Tests"
   ]
  },
  {
   "cell_type": "code",
   "execution_count": 2,
   "metadata": {},
   "outputs": [
    {
     "name": "stdout",
     "output_type": "stream",
     "text": [
      "['./testdir/subdir3/subsubdir1/b.c', './testdir/t1.c', './testdir/subdir5/a.c', './testdir/subdir1/a.c']\n"
     ]
    }
   ],
   "source": [
    "# Input: \".c\", \"./testdir\"\n",
    "# Expected output: Should find all *.c files in ./testdir:\n",
    "# ['./testdir/subdir3/subsubdir1/b.c', './testdir/t1.c', \n",
    "# './testdir/subdir5/a.c', './testdir/subdir1/a.c']\n",
    "print(find_files(\".c\", \"./testdir\"))"
   ]
  },
  {
   "cell_type": "code",
   "execution_count": 3,
   "metadata": {},
   "outputs": [
    {
     "name": "stdout",
     "output_type": "stream",
     "text": [
      "['./testdir/subdir3/subsubdir1/b.h', './testdir/subdir5/a.h', './testdir/t1.h', './testdir/subdir1/a.h']\n"
     ]
    }
   ],
   "source": [
    "# Input: \".h\", \"./testdir\"\n",
    "# Expected output: Should find all *.h files in ./testdir:\n",
    "# ['./testdir/subdir3/subsubdir1/b.h', './testdir/subdir5/a.h', \n",
    "# './testdir/t1.h', './testdir/subdir1/a.h']\n",
    "print(find_files(\".h\", \"./testdir\"))"
   ]
  },
  {
   "cell_type": "code",
   "execution_count": 4,
   "metadata": {},
   "outputs": [
    {
     "name": "stdout",
     "output_type": "stream",
     "text": [
      "[]\n"
     ]
    }
   ],
   "source": [
    "# Input: \".blob\", \"./testdir\"\n",
    "# Expected output: Should find all *.blob files in ./testdir.\n",
    "# There are none, so the expected output is: []\n",
    "print(find_files(\".blob\", \"./testdir\"))"
   ]
  },
  {
   "cell_type": "code",
   "execution_count": 5,
   "metadata": {},
   "outputs": [
    {
     "name": "stdout",
     "output_type": "stream",
     "text": [
      "['./testdir/.DS_Store', './testdir/subdir4/.gitkeep', './testdir/subdir3/.DS_Store', './testdir/subdir3/subsubdir1/b.h', './testdir/subdir3/subsubdir1/b.c', './testdir/t1.c', './testdir/subdir2/.gitkeep', './testdir/subdir5/a.h', './testdir/subdir5/a.c', './testdir/t1.h', './testdir/subdir1/a.h', './testdir/subdir1/a.c']\n"
     ]
    }
   ],
   "source": [
    "# Input: \"\", \"./testdir\"\n",
    "# Expected output: Should grab all files from ./testdir\n",
    "# ['./testdir/.DS_Store', './testdir/subdir4/.gitkeep', \n",
    "#  './testdir/subdir3/.DS_Store', './testdir/subdir3/subsubdir1/b.h', \n",
    "#  './testdir/subdir3/subsubdir1/b.c', './testdir/t1.c', \n",
    "#  './testdir/subdir2/.gitkeep', './testdir/subdir5/a.h', \n",
    "#  './testdir/subdir5/a.c', './testdir/t1.h', \n",
    "#  './testdir/subdir1/a.h', './testdir/subdir1/a.c']\n",
    "print(find_files(\"\", \"./testdir\"))"
   ]
  },
  {
   "cell_type": "code",
   "execution_count": 6,
   "metadata": {},
   "outputs": [
    {
     "name": "stdout",
     "output_type": "stream",
     "text": [
      "[]\n",
      "[]\n",
      "[]\n"
     ]
    }
   ],
   "source": [
    "# Input: \".c\", \"./katdir\"\n",
    "# The given directory is empty, so no matter the suffix it should always\n",
    "# return []\n",
    "print(find_files(\".c\", \"./katdir\"))\n",
    "print(find_files(\"\", \"./katdir\"))\n",
    "print(find_files(\"blob\", \"./katdir\"))"
   ]
  },
  {
   "cell_type": "code",
   "execution_count": 7,
   "metadata": {},
   "outputs": [
    {
     "ename": "FileNotFoundError",
     "evalue": "[Errno 2] No such file or directory: './doesnotexist'",
     "output_type": "error",
     "traceback": [
      "\u001b[0;31m---------------------------------------------------------------------------\u001b[0m",
      "\u001b[0;31mFileNotFoundError\u001b[0m                         Traceback (most recent call last)",
      "\u001b[0;32m<ipython-input-7-95dbdbdeb061>\u001b[0m in \u001b[0;36m<module>\u001b[0;34m\u001b[0m\n\u001b[1;32m      2\u001b[0m \u001b[0;31m# The given directory does not exist, so it should throw a\u001b[0m\u001b[0;34m\u001b[0m\u001b[0;34m\u001b[0m\u001b[0m\n\u001b[1;32m      3\u001b[0m \u001b[0;31m# FileNotFoundError.\u001b[0m\u001b[0;34m\u001b[0m\u001b[0;34m\u001b[0m\u001b[0m\n\u001b[0;32m----> 4\u001b[0;31m \u001b[0mprint\u001b[0m\u001b[0;34m(\u001b[0m\u001b[0mfind_files\u001b[0m\u001b[0;34m(\u001b[0m\u001b[0;34m\".c\"\u001b[0m\u001b[0;34m,\u001b[0m \u001b[0;34m\"./doesnotexist\"\u001b[0m\u001b[0;34m)\u001b[0m\u001b[0;34m)\u001b[0m\u001b[0;34m\u001b[0m\u001b[0m\n\u001b[0m",
      "\u001b[0;32m<ipython-input-1-dd11112bdcb5>\u001b[0m in \u001b[0;36mfind_files\u001b[0;34m(suffix, path)\u001b[0m\n\u001b[1;32m     23\u001b[0m \u001b[0;34m\u001b[0m\u001b[0m\n\u001b[1;32m     24\u001b[0m     \u001b[0;31m# Check the current path for subdirectories and files\u001b[0m\u001b[0;34m\u001b[0m\u001b[0;34m\u001b[0m\u001b[0m\n\u001b[0;32m---> 25\u001b[0;31m     \u001b[0msubFiles\u001b[0m \u001b[0;34m=\u001b[0m \u001b[0mos\u001b[0m\u001b[0;34m.\u001b[0m\u001b[0mlistdir\u001b[0m\u001b[0;34m(\u001b[0m\u001b[0mpath\u001b[0m\u001b[0;34m)\u001b[0m\u001b[0;34m\u001b[0m\u001b[0m\n\u001b[0m\u001b[1;32m     26\u001b[0m     \u001b[0;32mfor\u001b[0m \u001b[0mfile\u001b[0m \u001b[0;32min\u001b[0m \u001b[0msubFiles\u001b[0m\u001b[0;34m:\u001b[0m\u001b[0;34m\u001b[0m\u001b[0m\n\u001b[1;32m     27\u001b[0m         \u001b[0mfilePath\u001b[0m \u001b[0;34m=\u001b[0m \u001b[0mpath\u001b[0m \u001b[0;34m+\u001b[0m \u001b[0;34m\"/\"\u001b[0m \u001b[0;34m+\u001b[0m \u001b[0mfile\u001b[0m\u001b[0;34m\u001b[0m\u001b[0m\n",
      "\u001b[0;31mFileNotFoundError\u001b[0m: [Errno 2] No such file or directory: './doesnotexist'"
     ]
    }
   ],
   "source": [
    "# Input: \".c\", \"./doesnotexist\"\n",
    "# The given directory does not exist, so it should throw a\n",
    "# FileNotFoundError.\n",
    "print(find_files(\".c\", \"./doesnotexist\"))"
   ]
  },
  {
   "cell_type": "markdown",
   "metadata": {},
   "source": [
    "## Code to demonstrate the use of some of the OS modules in python\n",
    "Just keeping this for personal reference."
   ]
  },
  {
   "cell_type": "code",
   "execution_count": null,
   "metadata": {},
   "outputs": [],
   "source": [
    "\n",
    "import os\n",
    "\n",
    "# Let us print the files in the directory in which you are running \n",
    "# this script from\n",
    "print (\"current directory: \\n\", os.listdir(\".\"))\n",
    "\n",
    "testdir = os.listdir(\"./testdir\")\n",
    "print (\"\\ntestdir directory: \", testdir, \"\\n\")\n",
    "\n",
    "# Let us check if this file is indeed a file!\n",
    "print (\"Is ./ex.py a file? \", os.path.isfile(\"./ex.py\"), \"\\n\")\n",
    "\n",
    "print(\"Are the items in testdir files or not? Do they end with .c?\")\n",
    "for file in testdir:\n",
    "    f = \"./testdir/\" + file\n",
    "    print(f, \": \\t\", os.path.isfile(f), \", \", f.endswith(\".c\"))"
   ]
  }
 ],
 "metadata": {
  "kernelspec": {
   "display_name": "Python 3",
   "language": "python",
   "name": "python3"
  },
  "language_info": {
   "codemirror_mode": {
    "name": "ipython",
    "version": 3
   },
   "file_extension": ".py",
   "mimetype": "text/x-python",
   "name": "python",
   "nbconvert_exporter": "python",
   "pygments_lexer": "ipython3",
   "version": "3.5.6"
  }
 },
 "nbformat": 4,
 "nbformat_minor": 2
}
